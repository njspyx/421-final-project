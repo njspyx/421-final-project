{
 "cells": [
  {
   "cell_type": "markdown",
   "metadata": {
    "id": "ct-Y-LOqMIAm"
   },
   "source": [
    "#CMSC421 Final Project\n",
    "Team Members: Jordan Maggin, Lex Kim, Zhuo Cheng Xie, Neel Jay, Hylene Wu\n",
    "\n",
    "Project Description: The program will train on the set of images and gather information on airplanes from these images. With this information, it will attempt to both locate and identify airplanes in different sets of videos.\n"
   ]
  },
  {
   "cell_type": "markdown",
   "metadata": {
    "id": "KfdqigUnGdXM"
   },
   "source": [
    "Installing YOLO"
   ]
  },
  {
   "cell_type": "code",
   "execution_count": 1,
   "metadata": {
    "colab": {
     "base_uri": "https://localhost:8080/"
    },
    "id": "cc9aFAQbKed0",
    "outputId": "775dfbd7-38ca-4790-cda9-1ae5a066ec62"
   },
   "outputs": [
    {
     "name": "stdout",
     "output_type": "stream",
     "text": [
      "Mon May  6 23:19:15 2024       \n",
      "+---------------------------------------------------------------------------------------+\n",
      "| NVIDIA-SMI 546.65                 Driver Version: 546.65       CUDA Version: 12.3     |\n",
      "|-----------------------------------------+----------------------+----------------------+\n",
      "| GPU  Name                     TCC/WDDM  | Bus-Id        Disp.A | Volatile Uncorr. ECC |\n",
      "| Fan  Temp   Perf          Pwr:Usage/Cap |         Memory-Usage | GPU-Util  Compute M. |\n",
      "|                                         |                      |               MIG M. |\n",
      "|=========================================+======================+======================|\n",
      "|   0  NVIDIA GeForce GTX 1050 Ti   WDDM  | 00000000:01:00.0  On |                  N/A |\n",
      "| 35%   30C    P0              N/A /  75W |    732MiB /  4096MiB |      1%      Default |\n",
      "|                                         |                      |                  N/A |\n",
      "+-----------------------------------------+----------------------+----------------------+\n",
      "                                                                                         \n",
      "+---------------------------------------------------------------------------------------+\n",
      "| Processes:                                                                            |\n",
      "|  GPU   GI   CI        PID   Type   Process name                            GPU Memory |\n",
      "|        ID   ID                                                             Usage      |\n",
      "|=======================================================================================|\n",
      "|    0   N/A  N/A      2240    C+G   C:\\Windows\\explorer.exe                   N/A      |\n",
      "|    0   N/A  N/A      2664    C+G   ...a\\Local\\Programs\\Opera GX\\opera.exe    N/A      |\n",
      "|    0   N/A  N/A      2856    C+G   ...1.0_x64__8wekyb3d8bbwe\\Video.UI.exe    N/A      |\n",
      "|    0   N/A  N/A      2892    C+G   ...W\\AppData\\Roaming\\Zoom\\bin\\Zoom.exe    N/A      |\n",
      "|    0   N/A  N/A      4568    C+G   ...\\cef\\cef.win7x64\\steamwebhelper.exe    N/A      |\n",
      "|    0   N/A  N/A      4684    C+G   ...on\\HEX\\Creative Cloud UI Helper.exe    N/A      |\n",
      "|    0   N/A  N/A      5552    C+G   ...on\\124.0.2478.80\\msedgewebview2.exe    N/A      |\n",
      "|    0   N/A  N/A      7252    C+G   ...GeForce Experience\\NVIDIA Share.exe    N/A      |\n",
      "|    0   N/A  N/A      7500    C+G   ...CBS_cw5n1h2txyewy\\TextInputHost.exe    N/A      |\n",
      "|    0   N/A  N/A      9148    C+G   ...crosoft\\Edge\\Application\\msedge.exe    N/A      |\n",
      "|    0   N/A  N/A      9868    C+G   ...siveControlPanel\\SystemSettings.exe    N/A      |\n",
      "|    0   N/A  N/A     10960    C+G   ...al\\Discord\\app-1.0.9044\\Discord.exe    N/A      |\n",
      "|    0   N/A  N/A     12564    C+G   ...5n1h2txyewy\\ShellExperienceHost.exe    N/A      |\n",
      "|    0   N/A  N/A     13164    C+G   ...ejd91yc\\AdobeNotificationClient.exe    N/A      |\n",
      "|    0   N/A  N/A     15352    C+G   ...t.LockApp_cw5n1h2txyewy\\LockApp.exe    N/A      |\n",
      "|    0   N/A  N/A     16060    C+G   ...ekyb3d8bbwe\\PhoneExperienceHost.exe    N/A      |\n",
      "|    0   N/A  N/A     17248    C+G   ...2txyewy\\StartMenuExperienceHost.exe    N/A      |\n",
      "|    0   N/A  N/A     17272    C+G   ...GeForce Experience\\NVIDIA Share.exe    N/A      |\n",
      "|    0   N/A  N/A     18200    C+G   ...on\\124.0.2478.80\\msedgewebview2.exe    N/A      |\n",
      "|    0   N/A  N/A     19696    C+G   ...nt.CBS_cw5n1h2txyewy\\SearchHost.exe    N/A      |\n",
      "+---------------------------------------------------------------------------------------+\n"
     ]
    }
   ],
   "source": [
    "!nvidia-smi"
   ]
  },
  {
   "cell_type": "code",
   "execution_count": 2,
   "metadata": {
    "colab": {
     "base_uri": "https://localhost:8080/"
    },
    "id": "wh6PS0RLGcUC",
    "outputId": "63f291b1-ec22-4eff-d2fa-07ac9fb3674a"
   },
   "outputs": [
    {
     "name": "stderr",
     "output_type": "stream",
     "text": [
      "Ultralytics YOLOv8.0.196  Python-3.11.7 torch-2.3.0+cpu CPU (Intel Core(TM) i7-6700 3.40GHz)\n",
      "Setup complete  (8 CPUs, 31.9 GB RAM, 1286.3/1862.4 GB disk)\n"
     ]
    }
   ],
   "source": [
    "!pip install ultralytics==8.0.196\n",
    "\n",
    "from IPython import display\n",
    "display.clear_output()\n",
    "\n",
    "import ultralytics\n",
    "ultralytics.checks()"
   ]
  },
  {
   "cell_type": "code",
   "execution_count": 3,
   "metadata": {
    "id": "rYaZMp6PIJ-_"
   },
   "outputs": [],
   "source": [
    "from ultralytics import YOLO\n",
    "from IPython.display import display, Image\n"
   ]
  },
  {
   "cell_type": "markdown",
   "metadata": {
    "id": "7JiLQOYwSG23"
   },
   "source": [
    "Importing dataset from Roboflow Project"
   ]
  },
  {
   "cell_type": "code",
   "execution_count": 16,
   "metadata": {
    "colab": {
     "base_uri": "https://localhost:8080/"
    },
    "id": "UyukieNxIhab",
    "outputId": "99a483dc-56e1-42de-c644-59d529b73830"
   },
   "outputs": [
    {
     "name": "stdout",
     "output_type": "stream",
     "text": [
      "C:\\Users\\wizar.GW\\Downloads\\final421\\datasets\\datasets\\datasets\n",
      "loading Roboflow workspace...\n",
      "loading Roboflow project...\n"
     ]
    },
    {
     "name": "stderr",
     "output_type": "stream",
     "text": [
      "Downloading Dataset Version Zip in Vehicle-Detection-1 to yolov8:: 100%|██████████| 382615/382615 [00:34<00:00, 11140.54it/s]\n"
     ]
    },
    {
     "name": "stdout",
     "output_type": "stream",
     "text": [
      "\n"
     ]
    },
    {
     "name": "stderr",
     "output_type": "stream",
     "text": [
      "Extracting Dataset Version Zip to Vehicle-Detection-1 in yolov8:: 100%|██████████| 13426/13426 [00:08<00:00, 1511.74it/s]\n"
     ]
    }
   ],
   "source": [
    "import os\n",
    "root_dir = os.getcwd()\n",
    "!mkdir {root_dir}\\datasets\n",
    "%cd {root_dir}\\datasets\n",
    "\n",
    "# paste the exported dataset code here\n",
    "!pip install roboflow --quiet\n",
    "\n",
    "from roboflow import Roboflow\n",
    "rf = Roboflow(api_key=\"nr1RFEWRZXe3o3eQV1ns\")\n",
    "project = rf.workspace(\"cmsc421-final-project\").project(\"vehicle-detection-ansgq\")\n",
    "version = project.version(1)\n",
    "model = version.model\n",
    "dataset = version.download(\"yolov8\")"
   ]
  },
  {
   "cell_type": "markdown",
   "metadata": {
    "id": "cpSsksiUWD1I"
   },
   "source": [
    "Custom Training\n",
    "\n",
    "(Weights are saved to /content/runs/detect/train)"
   ]
  },
  {
   "cell_type": "markdown",
   "metadata": {},
   "source": [
    "# Backend Functions\n",
    "\n",
    "Could be included in a Flask API if app is ever deployed."
   ]
  },
  {
   "cell_type": "code",
   "execution_count": null,
   "metadata": {},
   "outputs": [],
   "source": [
    "!pip install ultralytics==8.0.196 roboflow supervision --quiet"
   ]
  },
  {
   "cell_type": "code",
   "execution_count": null,
   "metadata": {},
   "outputs": [],
   "source": [
    "import cv2\n",
    "import numpy as np\n",
    "\n",
    "from ultralytics import YOLO\n",
    "from roboflow import Roboflow\n",
    "\n",
    "import supervision as sv"
   ]
  },
  {
   "cell_type": "code",
   "execution_count": null,
   "metadata": {},
   "outputs": [],
   "source": [
    "API_KEY = \"nr1RFEWRZXe3o3eQV1ns\"\n",
    "roboflow_workspace = \"cmsc421-final-project\"\n",
    "roboflow_project = \"plane-detection-eyzak\"\n",
    "version = 1"
   ]
  },
  {
   "cell_type": "code",
   "execution_count": null,
   "metadata": {},
   "outputs": [],
   "source": [
    "def get_roboflow_model(workspace, project, version=1):\n",
    "    rf = Roboflow(api_key=API_KEY)\n",
    "    model = rf.workspace(workspace).project(project).version(version).model\n",
    "    return model\n",
    "model = get_roboflow_model(roboflow_workspace, roboflow_project, version=1)"
   ]
  },
  {
   "cell_type": "code",
   "execution_count": null,
   "metadata": {},
   "outputs": [],
   "source": [
    "def annotate_image(model, image_path, output_path):\n",
    "\n",
    "    bounding_box_annotator = sv.BoundingBoxAnnotator()\n",
    "    label_annotator = sv.LabelAnnotator()\n",
    "\n",
    "    image = cv2.imread(image_path)\n",
    "\n",
    "    pred = model.predict(image_path, confidence=0.5, overlap=0.5).json()\n",
    "    detections = sv.Detections.from_inference(pred)\n",
    "\n",
    "    labels = [\n",
    "        f\"{class_name} {confidence:.2f}\"\n",
    "        for class_name, confidence\n",
    "        in zip(detections['class_name'], detections.confidence)\n",
    "    ]\n",
    "\n",
    "    annotated_image = bounding_box_annotator.annotate(\n",
    "        scene=image, detections=detections\n",
    "    )\n",
    "    annotated_image = label_annotator.annotate(\n",
    "        annotated_image, detections=detections, labels=labels\n",
    "    )\n",
    "\n",
    "    cv2.imwrite(output_path, annotated_image)\n"
   ]
  },
  {
   "cell_type": "code",
   "execution_count": null,
   "metadata": {},
   "outputs": [],
   "source": [
    "def annotate_video(model, video_path, output_path):\n",
    "\n",
    "    tracker = sv.ByteTrack()\n",
    "    bounding_box_annotator = sv.BoundingBoxAnnotator()\n",
    "    label_annotator = sv.LabelAnnotator()\n",
    "    trace_annotator = sv.TraceAnnotator(trace_length=80, thickness=3)\n",
    "    heat_map_annotator = sv.HeatMapAnnotator(radius=60, kernel_size=35)\n",
    "\n",
    "    video_info = sv.VideoInfo.from_video_path(video_path)\n",
    "    frames_generator = sv.get_video_frames_generator(video_path)\n",
    "\n",
    "    with sv.VideoSink(output_path, video_info) as sink:\n",
    "        for i, frame in enumerate(frames_generator):\n",
    "            print(f\"Frame {i}\")\n",
    "            pred = model.predict(frame, confidence=0.5, overlap=0.5).json()\n",
    "\n",
    "            \"\"\"\n",
    "            detections = sv.Detections(\n",
    "                xyxy=pred['predictions'][0]['x'],\n",
    "                confidence=pred['predictions'][0]['confidence'],\n",
    "                class_id=pred['predictions'][0]['class']\n",
    "            )\n",
    "            \"\"\"\n",
    "            detections = sv.Detections.from_inference(pred)\n",
    "            detections = tracker.update_with_detections(detections)\n",
    "            labels = [\n",
    "                f\"{class_name} {confidence:.2f}\"\n",
    "                for class_name, confidence\n",
    "                in zip(detections['class_name'], detections.confidence)\n",
    "            ]\n",
    "\n",
    "            annotated_frame = bounding_box_annotator.annotate(\n",
    "                scene=frame.copy(), detections=detections\n",
    "            )\n",
    "            annotated_frame = label_annotator.annotate(\n",
    "                scene=annotated_frame, detections=detections, labels=labels\n",
    "            )\n",
    "            annotated_frame = trace_annotator.annotate(\n",
    "                scene=annotated_frame, detections=detections\n",
    "            )\n",
    "            annotated_frame = heat_map_annotator.annotate(\n",
    "                scene=annotated_frame, detections=detections\n",
    "            )\n",
    "\n",
    "            sink.write_frame(annotated_frame)"
   ]
  },
  {
   "cell_type": "code",
   "execution_count": null,
   "metadata": {},
   "outputs": [],
   "source": [
    "# Example use\n",
    "video_path = \"test_video.mov\"\n",
    "output_path = \"annotated_video.mp4\"\n",
    "annotate_video(model, video_path, output_path)"
   ]
  },
  {
   "cell_type": "markdown",
   "metadata": {},
   "source": [
    "# Simple GUI with PySimpleGUI"
   ]
  },
  {
   "cell_type": "code",
   "execution_count": 8,
   "metadata": {},
   "outputs": [
    {
     "name": "stdout",
     "output_type": "stream",
     "text": [
      "Requirement already satisfied: pysimplegui in c:\\users\\wizar.gw\\anaconda3\\lib\\site-packages (5.0.4)\n",
      "Requirement already satisfied: rsa in c:\\users\\wizar.gw\\anaconda3\\lib\\site-packages (from pysimplegui) (4.7.2)\n",
      "Requirement already satisfied: pyasn1>=0.1.3 in c:\\users\\wizar.gw\\anaconda3\\lib\\site-packages (from rsa->pysimplegui) (0.4.8)\n",
      "Requirement already satisfied: pillow in c:\\users\\wizar.gw\\anaconda3\\lib\\site-packages (10.2.0)\n",
      "Requirement already satisfied: inference in c:\\users\\wizar.gw\\anaconda3\\lib\\site-packages (0.9.23)\n",
      "Requirement already satisfied: APScheduler<=3.10.1 in c:\\users\\wizar.gw\\anaconda3\\lib\\site-packages (from inference) (3.10.1)\n",
      "Requirement already satisfied: cython<=3.0.0 in c:\\users\\wizar.gw\\anaconda3\\lib\\site-packages (from inference) (3.0.0)\n",
      "Requirement already satisfied: python-dotenv<=2.0.0 in c:\\users\\wizar.gw\\anaconda3\\lib\\site-packages (from inference) (0.21.0)\n",
      "Requirement already satisfied: fastapi<1.0,>=0.100 in c:\\users\\wizar.gw\\anaconda3\\lib\\site-packages (from inference) (0.110.3)\n",
      "Requirement already satisfied: numpy<=1.25.2 in c:\\users\\wizar.gw\\anaconda3\\lib\\site-packages (from inference) (1.25.2)\n",
      "Requirement already satisfied: opencv-python<=4.8.0.76 in c:\\users\\wizar.gw\\anaconda3\\lib\\site-packages (from inference) (4.8.0.76)\n",
      "Requirement already satisfied: piexif<=1.1.3 in c:\\users\\wizar.gw\\anaconda3\\lib\\site-packages (from inference) (1.1.3)\n",
      "Requirement already satisfied: pillow<11.0 in c:\\users\\wizar.gw\\anaconda3\\lib\\site-packages (from inference) (10.2.0)\n",
      "Requirement already satisfied: prometheus-fastapi-instrumentator<=6.0.0 in c:\\users\\wizar.gw\\anaconda3\\lib\\site-packages (from inference) (6.0.0)\n",
      "Requirement already satisfied: redis<6.0.0 in c:\\users\\wizar.gw\\anaconda3\\lib\\site-packages (from inference) (5.0.4)\n",
      "Requirement already satisfied: requests>=2.26.0 in c:\\users\\wizar.gw\\anaconda3\\lib\\site-packages (from inference) (2.31.0)\n",
      "Requirement already satisfied: rich<=13.5.2 in c:\\users\\wizar.gw\\anaconda3\\lib\\site-packages (from inference) (13.3.5)\n",
      "Requirement already satisfied: shapely<=2.0.1 in c:\\users\\wizar.gw\\anaconda3\\lib\\site-packages (from inference) (2.0.1)\n",
      "Requirement already satisfied: supervision<1.0.0,>0.16.0 in c:\\users\\wizar.gw\\anaconda3\\lib\\site-packages (from inference) (0.20.0)\n",
      "Requirement already satisfied: pybase64<2.0.0 in c:\\users\\wizar.gw\\anaconda3\\lib\\site-packages (from inference) (1.3.2)\n",
      "Requirement already satisfied: scikit-image>=0.19.0 in c:\\users\\wizar.gw\\anaconda3\\lib\\site-packages (from inference) (0.22.0)\n",
      "Requirement already satisfied: requests-toolbelt>=1.0.0 in c:\\users\\wizar.gw\\anaconda3\\lib\\site-packages (from inference) (1.0.0)\n",
      "Requirement already satisfied: wheel>=0.38.1 in c:\\users\\wizar.gw\\anaconda3\\lib\\site-packages (from inference) (0.41.2)\n",
      "Requirement already satisfied: setuptools>=65.5.1 in c:\\users\\wizar.gw\\anaconda3\\lib\\site-packages (from inference) (68.2.2)\n",
      "Requirement already satisfied: pytest-asyncio<=0.21.1 in c:\\users\\wizar.gw\\anaconda3\\lib\\site-packages (from inference) (0.21.1)\n",
      "Requirement already satisfied: networkx>=3.1 in c:\\users\\wizar.gw\\anaconda3\\lib\\site-packages (from inference) (3.1)\n",
      "Requirement already satisfied: pydantic>=2.0 in c:\\users\\wizar.gw\\anaconda3\\lib\\site-packages (from inference) (2.7.1)\n",
      "Requirement already satisfied: openai>=1.12.0 in c:\\users\\wizar.gw\\anaconda3\\lib\\site-packages (from inference) (1.26.0)\n",
      "Requirement already satisfied: structlog>=24.1.0 in c:\\users\\wizar.gw\\anaconda3\\lib\\site-packages (from inference) (24.1.0)\n",
      "Requirement already satisfied: zxing-cpp>=2.2.0 in c:\\users\\wizar.gw\\anaconda3\\lib\\site-packages (from inference) (2.2.0)\n",
      "Requirement already satisfied: boto3<=1.28.23 in c:\\users\\wizar.gw\\anaconda3\\lib\\site-packages (from inference) (1.28.23)\n",
      "Requirement already satisfied: typing-extensions>=4.8.0 in c:\\users\\wizar.gw\\anaconda3\\lib\\site-packages (from inference) (4.9.0)\n",
      "Requirement already satisfied: onnxruntime<=1.15.1 in c:\\users\\wizar.gw\\anaconda3\\lib\\site-packages (from inference) (1.15.1)\n",
      "Requirement already satisfied: GPUtil==1.4.0 in c:\\users\\wizar.gw\\anaconda3\\lib\\site-packages (from inference) (1.4.0)\n",
      "Requirement already satisfied: docker==6.1.3 in c:\\users\\wizar.gw\\anaconda3\\lib\\site-packages (from inference) (6.1.3)\n",
      "Requirement already satisfied: typer==0.9.0 in c:\\users\\wizar.gw\\anaconda3\\lib\\site-packages (from inference) (0.9.0)\n",
      "Requirement already satisfied: skypilot==0.5.0 in c:\\users\\wizar.gw\\anaconda3\\lib\\site-packages (from skypilot[aws,gcp]==0.5.0->inference) (0.5.0)\n",
      "Requirement already satisfied: PyYAML>=6.0.0 in c:\\users\\wizar.gw\\anaconda3\\lib\\site-packages (from inference) (6.0.1)\n",
      "Requirement already satisfied: tqdm>=4.0.0 in c:\\users\\wizar.gw\\anaconda3\\lib\\site-packages (from inference) (4.65.0)\n",
      "Requirement already satisfied: py-cpuinfo>=9.0.0 in c:\\users\\wizar.gw\\anaconda3\\lib\\site-packages (from inference) (9.0.0)\n",
      "Requirement already satisfied: aiohttp>=3.9.0 in c:\\users\\wizar.gw\\anaconda3\\lib\\site-packages (from inference) (3.9.3)\n",
      "Requirement already satisfied: backoff>=2.2.0 in c:\\users\\wizar.gw\\anaconda3\\lib\\site-packages (from inference) (2.2.1)\n",
      "Requirement already satisfied: dataclasses-json>=0.6.0 in c:\\users\\wizar.gw\\anaconda3\\lib\\site-packages (from inference) (0.6.5)\n",
      "Requirement already satisfied: aioresponses>=0.7.6 in c:\\users\\wizar.gw\\anaconda3\\lib\\site-packages (from inference) (0.7.6)\n",
      "Requirement already satisfied: packaging>=14.0 in c:\\users\\wizar.gw\\anaconda3\\lib\\site-packages (from docker==6.1.3->inference) (23.1)\n",
      "Requirement already satisfied: urllib3>=1.26.0 in c:\\users\\wizar.gw\\anaconda3\\lib\\site-packages (from docker==6.1.3->inference) (1.26.18)\n",
      "Requirement already satisfied: websocket-client>=0.32.0 in c:\\users\\wizar.gw\\anaconda3\\lib\\site-packages (from docker==6.1.3->inference) (0.58.0)\n",
      "Requirement already satisfied: pywin32>=304 in c:\\users\\wizar.gw\\anaconda3\\lib\\site-packages (from docker==6.1.3->inference) (305.1)\n",
      "Requirement already satisfied: cachetools in c:\\users\\wizar.gw\\anaconda3\\lib\\site-packages (from skypilot==0.5.0->skypilot[aws,gcp]==0.5.0->inference) (4.2.2)\n",
      "Requirement already satisfied: click>=7.0 in c:\\users\\wizar.gw\\anaconda3\\lib\\site-packages (from skypilot==0.5.0->skypilot[aws,gcp]==0.5.0->inference) (8.1.7)\n",
      "Requirement already satisfied: colorama in c:\\users\\wizar.gw\\anaconda3\\lib\\site-packages (from skypilot==0.5.0->skypilot[aws,gcp]==0.5.0->inference) (0.4.4)\n",
      "Requirement already satisfied: cryptography in c:\\users\\wizar.gw\\anaconda3\\lib\\site-packages (from skypilot==0.5.0->skypilot[aws,gcp]==0.5.0->inference) (42.0.2)\n",
      "Requirement already satisfied: jinja2>=3.0 in c:\\users\\wizar.gw\\anaconda3\\lib\\site-packages (from skypilot==0.5.0->skypilot[aws,gcp]==0.5.0->inference) (3.1.3)\n",
      "Requirement already satisfied: jsonschema in c:\\users\\wizar.gw\\anaconda3\\lib\\site-packages (from skypilot==0.5.0->skypilot[aws,gcp]==0.5.0->inference) (4.19.2)\n",
      "Requirement already satisfied: pandas>=1.3.0 in c:\\users\\wizar.gw\\anaconda3\\lib\\site-packages (from skypilot==0.5.0->skypilot[aws,gcp]==0.5.0->inference) (2.1.4)\n",
      "Requirement already satisfied: pendulum in c:\\users\\wizar.gw\\anaconda3\\lib\\site-packages (from skypilot==0.5.0->skypilot[aws,gcp]==0.5.0->inference) (3.0.0)\n",
      "Requirement already satisfied: PrettyTable>=2.0.0 in c:\\users\\wizar.gw\\anaconda3\\lib\\site-packages (from skypilot==0.5.0->skypilot[aws,gcp]==0.5.0->inference) (3.10.0)\n",
      "Requirement already satisfied: tabulate in c:\\users\\wizar.gw\\anaconda3\\lib\\site-packages (from skypilot==0.5.0->skypilot[aws,gcp]==0.5.0->inference) (0.9.0)\n",
      "Requirement already satisfied: filelock>=3.6.0 in c:\\users\\wizar.gw\\anaconda3\\lib\\site-packages (from skypilot==0.5.0->skypilot[aws,gcp]==0.5.0->inference) (3.13.1)\n",
      "Requirement already satisfied: psutil in c:\\users\\wizar.gw\\anaconda3\\lib\\site-packages (from skypilot==0.5.0->skypilot[aws,gcp]==0.5.0->inference) (5.9.0)\n",
      "Requirement already satisfied: pulp in c:\\users\\wizar.gw\\anaconda3\\lib\\site-packages (from skypilot==0.5.0->skypilot[aws,gcp]==0.5.0->inference) (2.8.0)\n",
      "Requirement already satisfied: awscli>=1.27.10 in c:\\users\\wizar.gw\\anaconda3\\lib\\site-packages (from skypilot[aws,gcp]==0.5.0->inference) (1.29.54)\n"
     ]
    },
    {
     "name": "stdout",
     "output_type": "stream",
     "text": [
      "Requirement already satisfied: botocore>=1.29.10 in c:\\users\\wizar.gw\\anaconda3\\lib\\site-packages (from skypilot[aws,gcp]==0.5.0->inference) (1.31.54)\n",
      "Requirement already satisfied: google-api-python-client>=2.69.0 in c:\\users\\wizar.gw\\anaconda3\\lib\\site-packages (from skypilot[aws,gcp]==0.5.0->inference) (2.127.0)\n",
      "Requirement already satisfied: google-cloud-storage in c:\\users\\wizar.gw\\anaconda3\\lib\\site-packages (from skypilot[aws,gcp]==0.5.0->inference) (2.16.0)\n",
      "Requirement already satisfied: aiosignal>=1.1.2 in c:\\users\\wizar.gw\\anaconda3\\lib\\site-packages (from aiohttp>=3.9.0->inference) (1.2.0)\n",
      "Requirement already satisfied: attrs>=17.3.0 in c:\\users\\wizar.gw\\anaconda3\\lib\\site-packages (from aiohttp>=3.9.0->inference) (23.1.0)\n",
      "Requirement already satisfied: frozenlist>=1.1.1 in c:\\users\\wizar.gw\\anaconda3\\lib\\site-packages (from aiohttp>=3.9.0->inference) (1.4.0)\n",
      "Requirement already satisfied: multidict<7.0,>=4.5 in c:\\users\\wizar.gw\\anaconda3\\lib\\site-packages (from aiohttp>=3.9.0->inference) (6.0.4)\n",
      "Requirement already satisfied: yarl<2.0,>=1.0 in c:\\users\\wizar.gw\\anaconda3\\lib\\site-packages (from aiohttp>=3.9.0->inference) (1.9.3)\n",
      "Requirement already satisfied: six>=1.4.0 in c:\\users\\wizar.gw\\anaconda3\\lib\\site-packages (from APScheduler<=3.10.1->inference) (1.16.0)\n",
      "Requirement already satisfied: pytz in c:\\users\\wizar.gw\\anaconda3\\lib\\site-packages (from APScheduler<=3.10.1->inference) (2023.3.post1)\n",
      "Requirement already satisfied: tzlocal!=3.*,>=2.0 in c:\\users\\wizar.gw\\anaconda3\\lib\\site-packages (from APScheduler<=3.10.1->inference) (2.1)\n",
      "Requirement already satisfied: jmespath<2.0.0,>=0.7.1 in c:\\users\\wizar.gw\\anaconda3\\lib\\site-packages (from boto3<=1.28.23->inference) (1.0.1)\n",
      "Requirement already satisfied: s3transfer<0.7.0,>=0.6.0 in c:\\users\\wizar.gw\\anaconda3\\lib\\site-packages (from boto3<=1.28.23->inference) (0.6.2)\n",
      "Requirement already satisfied: marshmallow<4.0.0,>=3.18.0 in c:\\users\\wizar.gw\\anaconda3\\lib\\site-packages (from dataclasses-json>=0.6.0->inference) (3.21.2)\n",
      "Requirement already satisfied: typing-inspect<1,>=0.4.0 in c:\\users\\wizar.gw\\anaconda3\\lib\\site-packages (from dataclasses-json>=0.6.0->inference) (0.9.0)\n",
      "Requirement already satisfied: starlette<0.38.0,>=0.37.2 in c:\\users\\wizar.gw\\anaconda3\\lib\\site-packages (from fastapi<1.0,>=0.100->inference) (0.37.2)\n",
      "Requirement already satisfied: coloredlogs in c:\\users\\wizar.gw\\anaconda3\\lib\\site-packages (from onnxruntime<=1.15.1->inference) (15.0.1)\n",
      "Requirement already satisfied: flatbuffers in c:\\users\\wizar.gw\\anaconda3\\lib\\site-packages (from onnxruntime<=1.15.1->inference) (24.3.25)\n",
      "Requirement already satisfied: protobuf in c:\\users\\wizar.gw\\anaconda3\\lib\\site-packages (from onnxruntime<=1.15.1->inference) (3.20.3)\n",
      "Requirement already satisfied: sympy in c:\\users\\wizar.gw\\anaconda3\\lib\\site-packages (from onnxruntime<=1.15.1->inference) (1.12)\n",
      "Requirement already satisfied: anyio<5,>=3.5.0 in c:\\users\\wizar.gw\\anaconda3\\lib\\site-packages (from openai>=1.12.0->inference) (4.2.0)\n",
      "Requirement already satisfied: distro<2,>=1.7.0 in c:\\users\\wizar.gw\\anaconda3\\lib\\site-packages (from openai>=1.12.0->inference) (1.8.0)\n",
      "Requirement already satisfied: httpx<1,>=0.23.0 in c:\\users\\wizar.gw\\anaconda3\\lib\\site-packages (from openai>=1.12.0->inference) (0.26.0)\n",
      "Requirement already satisfied: sniffio in c:\\users\\wizar.gw\\anaconda3\\lib\\site-packages (from openai>=1.12.0->inference) (1.3.0)\n",
      "Requirement already satisfied: prometheus-client<1.0.0,>=0.8.0 in c:\\users\\wizar.gw\\anaconda3\\lib\\site-packages (from prometheus-fastapi-instrumentator<=6.0.0->inference) (0.14.1)\n",
      "Requirement already satisfied: annotated-types>=0.4.0 in c:\\users\\wizar.gw\\anaconda3\\lib\\site-packages (from pydantic>=2.0->inference) (0.6.0)\n",
      "Requirement already satisfied: pydantic-core==2.18.2 in c:\\users\\wizar.gw\\anaconda3\\lib\\site-packages (from pydantic>=2.0->inference) (2.18.2)\n",
      "Requirement already satisfied: pytest>=7.0.0 in c:\\users\\wizar.gw\\anaconda3\\lib\\site-packages (from pytest-asyncio<=0.21.1->inference) (7.4.0)\n",
      "Requirement already satisfied: charset-normalizer<4,>=2 in c:\\users\\wizar.gw\\anaconda3\\lib\\site-packages (from requests>=2.26.0->inference) (2.0.4)\n",
      "Requirement already satisfied: idna<4,>=2.5 in c:\\users\\wizar.gw\\appdata\\roaming\\python\\python311\\site-packages (from requests>=2.26.0->inference) (2.10)\n",
      "Requirement already satisfied: certifi>=2017.4.17 in c:\\users\\wizar.gw\\appdata\\roaming\\python\\python311\\site-packages (from requests>=2.26.0->inference) (2023.7.22)\n",
      "Requirement already satisfied: markdown-it-py<3.0.0,>=2.2.0 in c:\\users\\wizar.gw\\anaconda3\\lib\\site-packages (from rich<=13.5.2->inference) (2.2.0)\n",
      "Requirement already satisfied: pygments<3.0.0,>=2.13.0 in c:\\users\\wizar.gw\\anaconda3\\lib\\site-packages (from rich<=13.5.2->inference) (2.15.1)\n",
      "Requirement already satisfied: scipy>=1.8 in c:\\users\\wizar.gw\\anaconda3\\lib\\site-packages (from scikit-image>=0.19.0->inference) (1.11.4)\n",
      "Requirement already satisfied: imageio>=2.27 in c:\\users\\wizar.gw\\anaconda3\\lib\\site-packages (from scikit-image>=0.19.0->inference) (2.33.1)\n",
      "Requirement already satisfied: tifffile>=2022.8.12 in c:\\users\\wizar.gw\\anaconda3\\lib\\site-packages (from scikit-image>=0.19.0->inference) (2023.4.12)\n",
      "Requirement already satisfied: lazy_loader>=0.3 in c:\\users\\wizar.gw\\anaconda3\\lib\\site-packages (from scikit-image>=0.19.0->inference) (0.3)\n",
      "Requirement already satisfied: defusedxml<0.8.0,>=0.7.1 in c:\\users\\wizar.gw\\anaconda3\\lib\\site-packages (from supervision<1.0.0,>0.16.0->inference) (0.7.1)\n",
      "Requirement already satisfied: matplotlib>=3.6.0 in c:\\users\\wizar.gw\\anaconda3\\lib\\site-packages (from supervision<1.0.0,>0.16.0->inference) (3.8.0)\n",
      "Requirement already satisfied: opencv-python-headless>=4.5.5.64 in c:\\users\\wizar.gw\\appdata\\roaming\\python\\python311\\site-packages (from supervision<1.0.0,>0.16.0->inference) (4.8.0.74)\n",
      "Requirement already satisfied: docutils<0.17,>=0.10 in c:\\users\\wizar.gw\\anaconda3\\lib\\site-packages (from awscli>=1.27.10->skypilot[aws,gcp]==0.5.0->inference) (0.16)\n",
      "Requirement already satisfied: rsa<4.8,>=3.1.2 in c:\\users\\wizar.gw\\anaconda3\\lib\\site-packages (from awscli>=1.27.10->skypilot[aws,gcp]==0.5.0->inference) (4.7.2)\n",
      "Requirement already satisfied: python-dateutil<3.0.0,>=2.1 in c:\\users\\wizar.gw\\anaconda3\\lib\\site-packages (from botocore>=1.29.10->skypilot[aws,gcp]==0.5.0->inference) (2.8.2)\n",
      "Requirement already satisfied: httplib2<1.dev0,>=0.19.0 in c:\\users\\wizar.gw\\anaconda3\\lib\\site-packages (from google-api-python-client>=2.69.0->skypilot[aws,gcp]==0.5.0->inference) (0.22.0)\n",
      "Requirement already satisfied: google-auth!=2.24.0,!=2.25.0,<3.0.0.dev0,>=1.32.0 in c:\\users\\wizar.gw\\anaconda3\\lib\\site-packages (from google-api-python-client>=2.69.0->skypilot[aws,gcp]==0.5.0->inference) (2.29.0)\n",
      "Requirement already satisfied: google-auth-httplib2<1.0.0,>=0.2.0 in c:\\users\\wizar.gw\\anaconda3\\lib\\site-packages (from google-api-python-client>=2.69.0->skypilot[aws,gcp]==0.5.0->inference) (0.2.0)\n",
      "Requirement already satisfied: google-api-core!=2.0.*,!=2.1.*,!=2.2.*,!=2.3.0,<3.0.0.dev0,>=1.31.5 in c:\\users\\wizar.gw\\anaconda3\\lib\\site-packages (from google-api-python-client>=2.69.0->skypilot[aws,gcp]==0.5.0->inference) (2.19.0)\n",
      "Requirement already satisfied: uritemplate<5,>=3.0.1 in c:\\users\\wizar.gw\\anaconda3\\lib\\site-packages (from google-api-python-client>=2.69.0->skypilot[aws,gcp]==0.5.0->inference) (4.1.1)\n",
      "Requirement already satisfied: httpcore==1.* in c:\\users\\wizar.gw\\anaconda3\\lib\\site-packages (from httpx<1,>=0.23.0->openai>=1.12.0->inference) (1.0.2)\n",
      "Requirement already satisfied: h11<0.15,>=0.13 in c:\\users\\wizar.gw\\anaconda3\\lib\\site-packages (from httpcore==1.*->httpx<1,>=0.23.0->openai>=1.12.0->inference) (0.14.0)\n",
      "Requirement already satisfied: MarkupSafe>=2.0 in c:\\users\\wizar.gw\\anaconda3\\lib\\site-packages (from jinja2>=3.0->skypilot==0.5.0->skypilot[aws,gcp]==0.5.0->inference) (2.1.3)\n",
      "Requirement already satisfied: mdurl~=0.1 in c:\\users\\wizar.gw\\anaconda3\\lib\\site-packages (from markdown-it-py<3.0.0,>=2.2.0->rich<=13.5.2->inference) (0.1.0)\n"
     ]
    },
    {
     "name": "stdout",
     "output_type": "stream",
     "text": [
      "Requirement already satisfied: contourpy>=1.0.1 in c:\\users\\wizar.gw\\anaconda3\\lib\\site-packages (from matplotlib>=3.6.0->supervision<1.0.0,>0.16.0->inference) (1.2.0)\n",
      "Requirement already satisfied: cycler>=0.10 in c:\\users\\wizar.gw\\appdata\\roaming\\python\\python311\\site-packages (from matplotlib>=3.6.0->supervision<1.0.0,>0.16.0->inference) (0.10.0)\n",
      "Requirement already satisfied: fonttools>=4.22.0 in c:\\users\\wizar.gw\\anaconda3\\lib\\site-packages (from matplotlib>=3.6.0->supervision<1.0.0,>0.16.0->inference) (4.25.0)\n",
      "Requirement already satisfied: kiwisolver>=1.0.1 in c:\\users\\wizar.gw\\anaconda3\\lib\\site-packages (from matplotlib>=3.6.0->supervision<1.0.0,>0.16.0->inference) (1.4.4)\n",
      "Requirement already satisfied: pyparsing>=2.3.1 in c:\\users\\wizar.gw\\anaconda3\\lib\\site-packages (from matplotlib>=3.6.0->supervision<1.0.0,>0.16.0->inference) (3.0.9)\n",
      "Requirement already satisfied: tzdata>=2022.1 in c:\\users\\wizar.gw\\anaconda3\\lib\\site-packages (from pandas>=1.3.0->skypilot==0.5.0->skypilot[aws,gcp]==0.5.0->inference) (2023.3)\n",
      "Requirement already satisfied: wcwidth in c:\\users\\wizar.gw\\anaconda3\\lib\\site-packages (from PrettyTable>=2.0.0->skypilot==0.5.0->skypilot[aws,gcp]==0.5.0->inference) (0.2.5)\n",
      "Requirement already satisfied: iniconfig in c:\\users\\wizar.gw\\anaconda3\\lib\\site-packages (from pytest>=7.0.0->pytest-asyncio<=0.21.1->inference) (1.1.1)\n",
      "Requirement already satisfied: pluggy<2.0,>=0.12 in c:\\users\\wizar.gw\\anaconda3\\lib\\site-packages (from pytest>=7.0.0->pytest-asyncio<=0.21.1->inference) (1.0.0)\n",
      "Requirement already satisfied: mypy-extensions>=0.3.0 in c:\\users\\wizar.gw\\anaconda3\\lib\\site-packages (from typing-inspect<1,>=0.4.0->dataclasses-json>=0.6.0->inference) (1.0.0)\n",
      "Requirement already satisfied: humanfriendly>=9.1 in c:\\users\\wizar.gw\\anaconda3\\lib\\site-packages (from coloredlogs->onnxruntime<=1.15.1->inference) (10.0)\n",
      "Requirement already satisfied: cffi>=1.12 in c:\\users\\wizar.gw\\anaconda3\\lib\\site-packages (from cryptography->skypilot==0.5.0->skypilot[aws,gcp]==0.5.0->inference) (1.16.0)\n",
      "Requirement already satisfied: google-cloud-core<3.0dev,>=2.3.0 in c:\\users\\wizar.gw\\anaconda3\\lib\\site-packages (from google-cloud-storage->skypilot[aws,gcp]==0.5.0->inference) (2.4.1)\n",
      "Requirement already satisfied: google-resumable-media>=2.6.0 in c:\\users\\wizar.gw\\anaconda3\\lib\\site-packages (from google-cloud-storage->skypilot[aws,gcp]==0.5.0->inference) (2.7.0)\n",
      "Requirement already satisfied: google-crc32c<2.0dev,>=1.0 in c:\\users\\wizar.gw\\anaconda3\\lib\\site-packages (from google-cloud-storage->skypilot[aws,gcp]==0.5.0->inference) (1.5.0)\n",
      "Requirement already satisfied: jsonschema-specifications>=2023.03.6 in c:\\users\\wizar.gw\\anaconda3\\lib\\site-packages (from jsonschema->skypilot==0.5.0->skypilot[aws,gcp]==0.5.0->inference) (2023.7.1)\n",
      "Requirement already satisfied: referencing>=0.28.4 in c:\\users\\wizar.gw\\anaconda3\\lib\\site-packages (from jsonschema->skypilot==0.5.0->skypilot[aws,gcp]==0.5.0->inference) (0.30.2)\n",
      "Requirement already satisfied: rpds-py>=0.7.1 in c:\\users\\wizar.gw\\anaconda3\\lib\\site-packages (from jsonschema->skypilot==0.5.0->skypilot[aws,gcp]==0.5.0->inference) (0.10.6)\n",
      "Requirement already satisfied: time-machine>=2.6.0 in c:\\users\\wizar.gw\\anaconda3\\lib\\site-packages (from pendulum->skypilot==0.5.0->skypilot[aws,gcp]==0.5.0->inference) (2.14.1)\n",
      "Requirement already satisfied: mpmath>=0.19 in c:\\users\\wizar.gw\\anaconda3\\lib\\site-packages (from sympy->onnxruntime<=1.15.1->inference) (1.3.0)\n",
      "Requirement already satisfied: pycparser in c:\\users\\wizar.gw\\anaconda3\\lib\\site-packages (from cffi>=1.12->cryptography->skypilot==0.5.0->skypilot[aws,gcp]==0.5.0->inference) (2.21)\n",
      "Requirement already satisfied: googleapis-common-protos<2.0.dev0,>=1.56.2 in c:\\users\\wizar.gw\\anaconda3\\lib\\site-packages (from google-api-core!=2.0.*,!=2.1.*,!=2.2.*,!=2.3.0,<3.0.0.dev0,>=1.31.5->google-api-python-client>=2.69.0->skypilot[aws,gcp]==0.5.0->inference) (1.63.0)\n",
      "Requirement already satisfied: proto-plus<2.0.0dev,>=1.22.3 in c:\\users\\wizar.gw\\anaconda3\\lib\\site-packages (from google-api-core!=2.0.*,!=2.1.*,!=2.2.*,!=2.3.0,<3.0.0.dev0,>=1.31.5->google-api-python-client>=2.69.0->skypilot[aws,gcp]==0.5.0->inference) (1.23.0)\n",
      "Requirement already satisfied: pyasn1-modules>=0.2.1 in c:\\users\\wizar.gw\\anaconda3\\lib\\site-packages (from google-auth!=2.24.0,!=2.25.0,<3.0.0.dev0,>=1.32.0->google-api-python-client>=2.69.0->skypilot[aws,gcp]==0.5.0->inference) (0.2.8)\n",
      "Requirement already satisfied: pyreadline3 in c:\\users\\wizar.gw\\anaconda3\\lib\\site-packages (from humanfriendly>=9.1->coloredlogs->onnxruntime<=1.15.1->inference) (3.4.1)\n",
      "Requirement already satisfied: pyasn1>=0.1.3 in c:\\users\\wizar.gw\\anaconda3\\lib\\site-packages (from rsa<4.8,>=3.1.2->awscli>=1.27.10->skypilot[aws,gcp]==0.5.0->inference) (0.4.8)\n",
      "Requirement already satisfied: inference[yolo-world] in c:\\users\\wizar.gw\\anaconda3\\lib\\site-packages (0.9.23)"
     ]
    },
    {
     "name": "stderr",
     "output_type": "stream",
     "text": [
      "ERROR: pip's dependency resolver does not currently take into account all the packages that are installed. This behaviour is the source of the following dependency conflicts."
     ]
    },
    {
     "name": "stdout",
     "output_type": "stream",
     "text": [
      "\n"
     ]
    },
    {
     "name": "stderr",
     "output_type": "stream",
     "text": [
      "\n"
     ]
    },
    {
     "name": "stdout",
     "output_type": "stream",
     "text": [
      "Requirement already satisfied: APScheduler<=3.10.1 in c:\\users\\wizar.gw\\anaconda3\\lib\\site-packages (from inference[yolo-world]) (3.10.1)\n"
     ]
    },
    {
     "name": "stderr",
     "output_type": "stream",
     "text": [
      "pylint 2.16.2 requires colorama>=0.4.5; sys_platform == \"win32\", but you have colorama 0.4.4 which is incompatible.\n"
     ]
    },
    {
     "name": "stdout",
     "output_type": "stream",
     "text": [
      "Requirement already satisfied: cython<=3.0.0 in c:\\users\\wizar.gw\\anaconda3\\lib\\site-packages (from inference[yolo-world]) (3.0.0)\n",
      "Requirement already satisfied: python-dotenv<=2.0.0 in c:\\users\\wizar.gw\\anaconda3\\lib\\site-packages (from inference[yolo-world]) (0.21.0)\n",
      "Requirement already satisfied: fastapi<1.0,>=0.100 in c:\\users\\wizar.gw\\anaconda3\\lib\\site-packages (from inference[yolo-world]) (0.110.3)\n",
      "Requirement already satisfied: numpy<=1.25.2 in c:\\users\\wizar.gw\\anaconda3\\lib\\site-packages (from inference[yolo-world]) (1.25.2)\n",
      "Requirement already satisfied: opencv-python<=4.8.0.76 in c:\\users\\wizar.gw\\anaconda3\\lib\\site-packages (from inference[yolo-world]) (4.8.0.76)\n",
      "Requirement already satisfied: piexif<=1.1.3 in c:\\users\\wizar.gw\\anaconda3\\lib\\site-packages (from inference[yolo-world]) (1.1.3)\n",
      "Requirement already satisfied: pillow<11.0 in c:\\users\\wizar.gw\\anaconda3\\lib\\site-packages (from inference[yolo-world]) (10.2.0)\n",
      "Requirement already satisfied: prometheus-fastapi-instrumentator<=6.0.0 in c:\\users\\wizar.gw\\anaconda3\\lib\\site-packages (from inference[yolo-world]) (6.0.0)\n",
      "Requirement already satisfied: redis<6.0.0 in c:\\users\\wizar.gw\\anaconda3\\lib\\site-packages (from inference[yolo-world]) (5.0.4)\n",
      "Requirement already satisfied: requests>=2.26.0 in c:\\users\\wizar.gw\\anaconda3\\lib\\site-packages (from inference[yolo-world]) (2.31.0)\n",
      "Requirement already satisfied: rich<=13.5.2 in c:\\users\\wizar.gw\\anaconda3\\lib\\site-packages (from inference[yolo-world]) (13.3.5)\n",
      "Requirement already satisfied: shapely<=2.0.1 in c:\\users\\wizar.gw\\anaconda3\\lib\\site-packages (from inference[yolo-world]) (2.0.1)\n",
      "Requirement already satisfied: supervision<1.0.0,>0.16.0 in c:\\users\\wizar.gw\\anaconda3\\lib\\site-packages (from inference[yolo-world]) (0.20.0)\n",
      "Requirement already satisfied: pybase64<2.0.0 in c:\\users\\wizar.gw\\anaconda3\\lib\\site-packages (from inference[yolo-world]) (1.3.2)\n",
      "Requirement already satisfied: scikit-image>=0.19.0 in c:\\users\\wizar.gw\\anaconda3\\lib\\site-packages (from inference[yolo-world]) (0.22.0)\n",
      "Requirement already satisfied: requests-toolbelt>=1.0.0 in c:\\users\\wizar.gw\\anaconda3\\lib\\site-packages (from inference[yolo-world]) (1.0.0)\n",
      "Requirement already satisfied: wheel>=0.38.1 in c:\\users\\wizar.gw\\anaconda3\\lib\\site-packages (from inference[yolo-world]) (0.41.2)\n",
      "Requirement already satisfied: setuptools>=65.5.1 in c:\\users\\wizar.gw\\anaconda3\\lib\\site-packages (from inference[yolo-world]) (68.2.2)\n",
      "Requirement already satisfied: pytest-asyncio<=0.21.1 in c:\\users\\wizar.gw\\anaconda3\\lib\\site-packages (from inference[yolo-world]) (0.21.1)\n",
      "Requirement already satisfied: networkx>=3.1 in c:\\users\\wizar.gw\\anaconda3\\lib\\site-packages (from inference[yolo-world]) (3.1)\n",
      "Requirement already satisfied: pydantic>=2.0 in c:\\users\\wizar.gw\\anaconda3\\lib\\site-packages (from inference[yolo-world]) (2.7.1)\n",
      "Requirement already satisfied: openai>=1.12.0 in c:\\users\\wizar.gw\\anaconda3\\lib\\site-packages (from inference[yolo-world]) (1.26.0)\n",
      "Requirement already satisfied: structlog>=24.1.0 in c:\\users\\wizar.gw\\anaconda3\\lib\\site-packages (from inference[yolo-world]) (24.1.0)\n",
      "Requirement already satisfied: zxing-cpp>=2.2.0 in c:\\users\\wizar.gw\\anaconda3\\lib\\site-packages (from inference[yolo-world]) (2.2.0)\n",
      "Requirement already satisfied: boto3<=1.28.23 in c:\\users\\wizar.gw\\anaconda3\\lib\\site-packages (from inference[yolo-world]) (1.28.23)\n",
      "Requirement already satisfied: typing-extensions>=4.8.0 in c:\\users\\wizar.gw\\anaconda3\\lib\\site-packages (from inference[yolo-world]) (4.9.0)\n",
      "Requirement already satisfied: onnxruntime<=1.15.1 in c:\\users\\wizar.gw\\anaconda3\\lib\\site-packages (from inference[yolo-world]) (1.15.1)\n",
      "Requirement already satisfied: GPUtil==1.4.0 in c:\\users\\wizar.gw\\anaconda3\\lib\\site-packages (from inference[yolo-world]) (1.4.0)\n",
      "Requirement already satisfied: docker==6.1.3 in c:\\users\\wizar.gw\\anaconda3\\lib\\site-packages (from inference[yolo-world]) (6.1.3)\n",
      "Requirement already satisfied: typer==0.9.0 in c:\\users\\wizar.gw\\anaconda3\\lib\\site-packages (from inference[yolo-world]) (0.9.0)\n",
      "Requirement already satisfied: skypilot==0.5.0 in c:\\users\\wizar.gw\\anaconda3\\lib\\site-packages (from skypilot[aws,gcp]==0.5.0->inference[yolo-world]) (0.5.0)\n",
      "Requirement already satisfied: PyYAML>=6.0.0 in c:\\users\\wizar.gw\\anaconda3\\lib\\site-packages (from inference[yolo-world]) (6.0.1)\n",
      "Requirement already satisfied: tqdm>=4.0.0 in c:\\users\\wizar.gw\\anaconda3\\lib\\site-packages (from inference[yolo-world]) (4.65.0)\n",
      "Requirement already satisfied: py-cpuinfo>=9.0.0 in c:\\users\\wizar.gw\\anaconda3\\lib\\site-packages (from inference[yolo-world]) (9.0.0)\n",
      "Requirement already satisfied: aiohttp>=3.9.0 in c:\\users\\wizar.gw\\anaconda3\\lib\\site-packages (from inference[yolo-world]) (3.9.3)\n",
      "Requirement already satisfied: backoff>=2.2.0 in c:\\users\\wizar.gw\\anaconda3\\lib\\site-packages (from inference[yolo-world]) (2.2.1)\n",
      "Requirement already satisfied: dataclasses-json>=0.6.0 in c:\\users\\wizar.gw\\anaconda3\\lib\\site-packages (from inference[yolo-world]) (0.6.5)\n",
      "Requirement already satisfied: aioresponses>=0.7.6 in c:\\users\\wizar.gw\\anaconda3\\lib\\site-packages (from inference[yolo-world]) (0.7.6)\n",
      "Collecting ultralytics>=8.1.27 (from inference[yolo-world])\n",
      "  Downloading ultralytics-8.2.10-py3-none-any.whl.metadata (40 kB)\n",
      "     ---------------------------------------- 0.0/40.7 kB ? eta -:--:--\n",
      "     ---------- ----------------------------- 10.2/40.7 kB ? eta -:--:--\n",
      "     ---------------------------- --------- 30.7/40.7 kB 259.2 kB/s eta 0:00:01\n",
      "     -------------------------------------- 40.7/40.7 kB 324.0 kB/s eta 0:00:00\n",
      "Collecting dill==0.3.8 (from inference[yolo-world])\n",
      "  Downloading dill-0.3.8-py3-none-any.whl.metadata (10 kB)\n",
      "Collecting rf-clip==1.0 (from inference[yolo-world])\n",
      "  Downloading rf_clip-1.0-py3-none-any.whl.metadata (821 bytes)\n",
      "Requirement already satisfied: packaging>=14.0 in c:\\users\\wizar.gw\\anaconda3\\lib\\site-packages (from docker==6.1.3->inference[yolo-world]) (23.1)\n",
      "Requirement already satisfied: urllib3>=1.26.0 in c:\\users\\wizar.gw\\anaconda3\\lib\\site-packages (from docker==6.1.3->inference[yolo-world]) (1.26.18)\n",
      "Requirement already satisfied: websocket-client>=0.32.0 in c:\\users\\wizar.gw\\anaconda3\\lib\\site-packages (from docker==6.1.3->inference[yolo-world]) (0.58.0)\n",
      "Requirement already satisfied: pywin32>=304 in c:\\users\\wizar.gw\\anaconda3\\lib\\site-packages (from docker==6.1.3->inference[yolo-world]) (305.1)\n",
      "Collecting ftfy (from rf-clip==1.0->inference[yolo-world])\n",
      "  Downloading ftfy-6.2.0-py3-none-any.whl.metadata (7.3 kB)\n",
      "Requirement already satisfied: regex in c:\\users\\wizar.gw\\anaconda3\\lib\\site-packages (from rf-clip==1.0->inference[yolo-world]) (2023.10.3)\n",
      "Requirement already satisfied: torch in c:\\users\\wizar.gw\\anaconda3\\lib\\site-packages (from rf-clip==1.0->inference[yolo-world]) (2.3.0)\n",
      "Requirement already satisfied: torchvision in c:\\users\\wizar.gw\\anaconda3\\lib\\site-packages (from rf-clip==1.0->inference[yolo-world]) (0.18.0)\n",
      "Requirement already satisfied: cachetools in c:\\users\\wizar.gw\\anaconda3\\lib\\site-packages (from skypilot==0.5.0->skypilot[aws,gcp]==0.5.0->inference[yolo-world]) (4.2.2)\n",
      "Requirement already satisfied: click>=7.0 in c:\\users\\wizar.gw\\anaconda3\\lib\\site-packages (from skypilot==0.5.0->skypilot[aws,gcp]==0.5.0->inference[yolo-world]) (8.1.7)\n",
      "Requirement already satisfied: colorama in c:\\users\\wizar.gw\\anaconda3\\lib\\site-packages (from skypilot==0.5.0->skypilot[aws,gcp]==0.5.0->inference[yolo-world]) (0.4.4)\n",
      "Requirement already satisfied: cryptography in c:\\users\\wizar.gw\\anaconda3\\lib\\site-packages (from skypilot==0.5.0->skypilot[aws,gcp]==0.5.0->inference[yolo-world]) (42.0.2)\n",
      "Requirement already satisfied: jinja2>=3.0 in c:\\users\\wizar.gw\\anaconda3\\lib\\site-packages (from skypilot==0.5.0->skypilot[aws,gcp]==0.5.0->inference[yolo-world]) (3.1.3)\n",
      "Requirement already satisfied: jsonschema in c:\\users\\wizar.gw\\anaconda3\\lib\\site-packages (from skypilot==0.5.0->skypilot[aws,gcp]==0.5.0->inference[yolo-world]) (4.19.2)\n",
      "Requirement already satisfied: pandas>=1.3.0 in c:\\users\\wizar.gw\\anaconda3\\lib\\site-packages (from skypilot==0.5.0->skypilot[aws,gcp]==0.5.0->inference[yolo-world]) (2.1.4)\n"
     ]
    },
    {
     "name": "stdout",
     "output_type": "stream",
     "text": [
      "Requirement already satisfied: pendulum in c:\\users\\wizar.gw\\anaconda3\\lib\\site-packages (from skypilot==0.5.0->skypilot[aws,gcp]==0.5.0->inference[yolo-world]) (3.0.0)\n",
      "Requirement already satisfied: PrettyTable>=2.0.0 in c:\\users\\wizar.gw\\anaconda3\\lib\\site-packages (from skypilot==0.5.0->skypilot[aws,gcp]==0.5.0->inference[yolo-world]) (3.10.0)\n",
      "Requirement already satisfied: tabulate in c:\\users\\wizar.gw\\anaconda3\\lib\\site-packages (from skypilot==0.5.0->skypilot[aws,gcp]==0.5.0->inference[yolo-world]) (0.9.0)\n",
      "Requirement already satisfied: filelock>=3.6.0 in c:\\users\\wizar.gw\\anaconda3\\lib\\site-packages (from skypilot==0.5.0->skypilot[aws,gcp]==0.5.0->inference[yolo-world]) (3.13.1)\n",
      "Requirement already satisfied: psutil in c:\\users\\wizar.gw\\anaconda3\\lib\\site-packages (from skypilot==0.5.0->skypilot[aws,gcp]==0.5.0->inference[yolo-world]) (5.9.0)\n",
      "Requirement already satisfied: pulp in c:\\users\\wizar.gw\\anaconda3\\lib\\site-packages (from skypilot==0.5.0->skypilot[aws,gcp]==0.5.0->inference[yolo-world]) (2.8.0)\n",
      "Requirement already satisfied: awscli>=1.27.10 in c:\\users\\wizar.gw\\anaconda3\\lib\\site-packages (from skypilot[aws,gcp]==0.5.0->inference[yolo-world]) (1.29.54)\n",
      "Requirement already satisfied: botocore>=1.29.10 in c:\\users\\wizar.gw\\anaconda3\\lib\\site-packages (from skypilot[aws,gcp]==0.5.0->inference[yolo-world]) (1.31.54)\n",
      "Requirement already satisfied: google-api-python-client>=2.69.0 in c:\\users\\wizar.gw\\anaconda3\\lib\\site-packages (from skypilot[aws,gcp]==0.5.0->inference[yolo-world]) (2.127.0)\n",
      "Requirement already satisfied: google-cloud-storage in c:\\users\\wizar.gw\\anaconda3\\lib\\site-packages (from skypilot[aws,gcp]==0.5.0->inference[yolo-world]) (2.16.0)\n",
      "Requirement already satisfied: aiosignal>=1.1.2 in c:\\users\\wizar.gw\\anaconda3\\lib\\site-packages (from aiohttp>=3.9.0->inference[yolo-world]) (1.2.0)\n",
      "Requirement already satisfied: attrs>=17.3.0 in c:\\users\\wizar.gw\\anaconda3\\lib\\site-packages (from aiohttp>=3.9.0->inference[yolo-world]) (23.1.0)\n",
      "Requirement already satisfied: frozenlist>=1.1.1 in c:\\users\\wizar.gw\\anaconda3\\lib\\site-packages (from aiohttp>=3.9.0->inference[yolo-world]) (1.4.0)\n",
      "Requirement already satisfied: multidict<7.0,>=4.5 in c:\\users\\wizar.gw\\anaconda3\\lib\\site-packages (from aiohttp>=3.9.0->inference[yolo-world]) (6.0.4)\n",
      "Requirement already satisfied: yarl<2.0,>=1.0 in c:\\users\\wizar.gw\\anaconda3\\lib\\site-packages (from aiohttp>=3.9.0->inference[yolo-world]) (1.9.3)\n",
      "Requirement already satisfied: six>=1.4.0 in c:\\users\\wizar.gw\\anaconda3\\lib\\site-packages (from APScheduler<=3.10.1->inference[yolo-world]) (1.16.0)\n",
      "Requirement already satisfied: pytz in c:\\users\\wizar.gw\\anaconda3\\lib\\site-packages (from APScheduler<=3.10.1->inference[yolo-world]) (2023.3.post1)\n",
      "Requirement already satisfied: tzlocal!=3.*,>=2.0 in c:\\users\\wizar.gw\\anaconda3\\lib\\site-packages (from APScheduler<=3.10.1->inference[yolo-world]) (2.1)\n",
      "Requirement already satisfied: jmespath<2.0.0,>=0.7.1 in c:\\users\\wizar.gw\\anaconda3\\lib\\site-packages (from boto3<=1.28.23->inference[yolo-world]) (1.0.1)\n",
      "Requirement already satisfied: s3transfer<0.7.0,>=0.6.0 in c:\\users\\wizar.gw\\anaconda3\\lib\\site-packages (from boto3<=1.28.23->inference[yolo-world]) (0.6.2)\n",
      "Requirement already satisfied: marshmallow<4.0.0,>=3.18.0 in c:\\users\\wizar.gw\\anaconda3\\lib\\site-packages (from dataclasses-json>=0.6.0->inference[yolo-world]) (3.21.2)\n",
      "Requirement already satisfied: typing-inspect<1,>=0.4.0 in c:\\users\\wizar.gw\\anaconda3\\lib\\site-packages (from dataclasses-json>=0.6.0->inference[yolo-world]) (0.9.0)\n",
      "Requirement already satisfied: starlette<0.38.0,>=0.37.2 in c:\\users\\wizar.gw\\anaconda3\\lib\\site-packages (from fastapi<1.0,>=0.100->inference[yolo-world]) (0.37.2)\n",
      "Requirement already satisfied: coloredlogs in c:\\users\\wizar.gw\\anaconda3\\lib\\site-packages (from onnxruntime<=1.15.1->inference[yolo-world]) (15.0.1)\n",
      "Requirement already satisfied: flatbuffers in c:\\users\\wizar.gw\\anaconda3\\lib\\site-packages (from onnxruntime<=1.15.1->inference[yolo-world]) (24.3.25)\n",
      "Requirement already satisfied: protobuf in c:\\users\\wizar.gw\\anaconda3\\lib\\site-packages (from onnxruntime<=1.15.1->inference[yolo-world]) (3.20.3)\n",
      "Requirement already satisfied: sympy in c:\\users\\wizar.gw\\anaconda3\\lib\\site-packages (from onnxruntime<=1.15.1->inference[yolo-world]) (1.12)\n",
      "Requirement already satisfied: anyio<5,>=3.5.0 in c:\\users\\wizar.gw\\anaconda3\\lib\\site-packages (from openai>=1.12.0->inference[yolo-world]) (4.2.0)\n",
      "Requirement already satisfied: distro<2,>=1.7.0 in c:\\users\\wizar.gw\\anaconda3\\lib\\site-packages (from openai>=1.12.0->inference[yolo-world]) (1.8.0)\n",
      "Requirement already satisfied: httpx<1,>=0.23.0 in c:\\users\\wizar.gw\\anaconda3\\lib\\site-packages (from openai>=1.12.0->inference[yolo-world]) (0.26.0)\n",
      "Requirement already satisfied: sniffio in c:\\users\\wizar.gw\\anaconda3\\lib\\site-packages (from openai>=1.12.0->inference[yolo-world]) (1.3.0)\n",
      "Requirement already satisfied: prometheus-client<1.0.0,>=0.8.0 in c:\\users\\wizar.gw\\anaconda3\\lib\\site-packages (from prometheus-fastapi-instrumentator<=6.0.0->inference[yolo-world]) (0.14.1)\n",
      "Requirement already satisfied: annotated-types>=0.4.0 in c:\\users\\wizar.gw\\anaconda3\\lib\\site-packages (from pydantic>=2.0->inference[yolo-world]) (0.6.0)\n",
      "Requirement already satisfied: pydantic-core==2.18.2 in c:\\users\\wizar.gw\\anaconda3\\lib\\site-packages (from pydantic>=2.0->inference[yolo-world]) (2.18.2)\n",
      "Requirement already satisfied: pytest>=7.0.0 in c:\\users\\wizar.gw\\anaconda3\\lib\\site-packages (from pytest-asyncio<=0.21.1->inference[yolo-world]) (7.4.0)\n",
      "Requirement already satisfied: charset-normalizer<4,>=2 in c:\\users\\wizar.gw\\anaconda3\\lib\\site-packages (from requests>=2.26.0->inference[yolo-world]) (2.0.4)\n",
      "Requirement already satisfied: idna<4,>=2.5 in c:\\users\\wizar.gw\\appdata\\roaming\\python\\python311\\site-packages (from requests>=2.26.0->inference[yolo-world]) (2.10)\n",
      "Requirement already satisfied: certifi>=2017.4.17 in c:\\users\\wizar.gw\\appdata\\roaming\\python\\python311\\site-packages (from requests>=2.26.0->inference[yolo-world]) (2023.7.22)\n",
      "Requirement already satisfied: markdown-it-py<3.0.0,>=2.2.0 in c:\\users\\wizar.gw\\anaconda3\\lib\\site-packages (from rich<=13.5.2->inference[yolo-world]) (2.2.0)\n",
      "Requirement already satisfied: pygments<3.0.0,>=2.13.0 in c:\\users\\wizar.gw\\anaconda3\\lib\\site-packages (from rich<=13.5.2->inference[yolo-world]) (2.15.1)\n",
      "Requirement already satisfied: scipy>=1.8 in c:\\users\\wizar.gw\\anaconda3\\lib\\site-packages (from scikit-image>=0.19.0->inference[yolo-world]) (1.11.4)\n",
      "Requirement already satisfied: imageio>=2.27 in c:\\users\\wizar.gw\\anaconda3\\lib\\site-packages (from scikit-image>=0.19.0->inference[yolo-world]) (2.33.1)\n",
      "Requirement already satisfied: tifffile>=2022.8.12 in c:\\users\\wizar.gw\\anaconda3\\lib\\site-packages (from scikit-image>=0.19.0->inference[yolo-world]) (2023.4.12)\n",
      "Requirement already satisfied: lazy_loader>=0.3 in c:\\users\\wizar.gw\\anaconda3\\lib\\site-packages (from scikit-image>=0.19.0->inference[yolo-world]) (0.3)\n",
      "Requirement already satisfied: defusedxml<0.8.0,>=0.7.1 in c:\\users\\wizar.gw\\anaconda3\\lib\\site-packages (from supervision<1.0.0,>0.16.0->inference[yolo-world]) (0.7.1)\n",
      "Requirement already satisfied: matplotlib>=3.6.0 in c:\\users\\wizar.gw\\anaconda3\\lib\\site-packages (from supervision<1.0.0,>0.16.0->inference[yolo-world]) (3.8.0)\n",
      "Requirement already satisfied: opencv-python-headless>=4.5.5.64 in c:\\users\\wizar.gw\\appdata\\roaming\\python\\python311\\site-packages (from supervision<1.0.0,>0.16.0->inference[yolo-world]) (4.8.0.74)\n",
      "Requirement already satisfied: thop>=0.1.1 in c:\\users\\wizar.gw\\anaconda3\\lib\\site-packages (from ultralytics>=8.1.27->inference[yolo-world]) (0.1.1.post2209072238)\n",
      "Requirement already satisfied: seaborn>=0.11.0 in c:\\users\\wizar.gw\\anaconda3\\lib\\site-packages (from ultralytics>=8.1.27->inference[yolo-world]) (0.12.2)\n",
      "Requirement already satisfied: docutils<0.17,>=0.10 in c:\\users\\wizar.gw\\anaconda3\\lib\\site-packages (from awscli>=1.27.10->skypilot[aws,gcp]==0.5.0->inference[yolo-world]) (0.16)\n"
     ]
    },
    {
     "name": "stdout",
     "output_type": "stream",
     "text": [
      "Requirement already satisfied: rsa<4.8,>=3.1.2 in c:\\users\\wizar.gw\\anaconda3\\lib\\site-packages (from awscli>=1.27.10->skypilot[aws,gcp]==0.5.0->inference[yolo-world]) (4.7.2)\n",
      "Requirement already satisfied: python-dateutil<3.0.0,>=2.1 in c:\\users\\wizar.gw\\anaconda3\\lib\\site-packages (from botocore>=1.29.10->skypilot[aws,gcp]==0.5.0->inference[yolo-world]) (2.8.2)\n",
      "Requirement already satisfied: httplib2<1.dev0,>=0.19.0 in c:\\users\\wizar.gw\\anaconda3\\lib\\site-packages (from google-api-python-client>=2.69.0->skypilot[aws,gcp]==0.5.0->inference[yolo-world]) (0.22.0)\n",
      "Requirement already satisfied: google-auth!=2.24.0,!=2.25.0,<3.0.0.dev0,>=1.32.0 in c:\\users\\wizar.gw\\anaconda3\\lib\\site-packages (from google-api-python-client>=2.69.0->skypilot[aws,gcp]==0.5.0->inference[yolo-world]) (2.29.0)\n",
      "Requirement already satisfied: google-auth-httplib2<1.0.0,>=0.2.0 in c:\\users\\wizar.gw\\anaconda3\\lib\\site-packages (from google-api-python-client>=2.69.0->skypilot[aws,gcp]==0.5.0->inference[yolo-world]) (0.2.0)\n",
      "Requirement already satisfied: google-api-core!=2.0.*,!=2.1.*,!=2.2.*,!=2.3.0,<3.0.0.dev0,>=1.31.5 in c:\\users\\wizar.gw\\anaconda3\\lib\\site-packages (from google-api-python-client>=2.69.0->skypilot[aws,gcp]==0.5.0->inference[yolo-world]) (2.19.0)\n",
      "Requirement already satisfied: uritemplate<5,>=3.0.1 in c:\\users\\wizar.gw\\anaconda3\\lib\\site-packages (from google-api-python-client>=2.69.0->skypilot[aws,gcp]==0.5.0->inference[yolo-world]) (4.1.1)\n",
      "Requirement already satisfied: httpcore==1.* in c:\\users\\wizar.gw\\anaconda3\\lib\\site-packages (from httpx<1,>=0.23.0->openai>=1.12.0->inference[yolo-world]) (1.0.2)\n",
      "Requirement already satisfied: h11<0.15,>=0.13 in c:\\users\\wizar.gw\\anaconda3\\lib\\site-packages (from httpcore==1.*->httpx<1,>=0.23.0->openai>=1.12.0->inference[yolo-world]) (0.14.0)\n",
      "Requirement already satisfied: MarkupSafe>=2.0 in c:\\users\\wizar.gw\\anaconda3\\lib\\site-packages (from jinja2>=3.0->skypilot==0.5.0->skypilot[aws,gcp]==0.5.0->inference[yolo-world]) (2.1.3)\n",
      "Requirement already satisfied: mdurl~=0.1 in c:\\users\\wizar.gw\\anaconda3\\lib\\site-packages (from markdown-it-py<3.0.0,>=2.2.0->rich<=13.5.2->inference[yolo-world]) (0.1.0)\n",
      "Requirement already satisfied: contourpy>=1.0.1 in c:\\users\\wizar.gw\\anaconda3\\lib\\site-packages (from matplotlib>=3.6.0->supervision<1.0.0,>0.16.0->inference[yolo-world]) (1.2.0)\n",
      "Requirement already satisfied: cycler>=0.10 in c:\\users\\wizar.gw\\appdata\\roaming\\python\\python311\\site-packages (from matplotlib>=3.6.0->supervision<1.0.0,>0.16.0->inference[yolo-world]) (0.10.0)\n",
      "Requirement already satisfied: fonttools>=4.22.0 in c:\\users\\wizar.gw\\anaconda3\\lib\\site-packages (from matplotlib>=3.6.0->supervision<1.0.0,>0.16.0->inference[yolo-world]) (4.25.0)\n",
      "Requirement already satisfied: kiwisolver>=1.0.1 in c:\\users\\wizar.gw\\anaconda3\\lib\\site-packages (from matplotlib>=3.6.0->supervision<1.0.0,>0.16.0->inference[yolo-world]) (1.4.4)\n",
      "Requirement already satisfied: pyparsing>=2.3.1 in c:\\users\\wizar.gw\\anaconda3\\lib\\site-packages (from matplotlib>=3.6.0->supervision<1.0.0,>0.16.0->inference[yolo-world]) (3.0.9)\n",
      "Requirement already satisfied: tzdata>=2022.1 in c:\\users\\wizar.gw\\anaconda3\\lib\\site-packages (from pandas>=1.3.0->skypilot==0.5.0->skypilot[aws,gcp]==0.5.0->inference[yolo-world]) (2023.3)\n",
      "Requirement already satisfied: wcwidth in c:\\users\\wizar.gw\\anaconda3\\lib\\site-packages (from PrettyTable>=2.0.0->skypilot==0.5.0->skypilot[aws,gcp]==0.5.0->inference[yolo-world]) (0.2.5)\n",
      "Requirement already satisfied: iniconfig in c:\\users\\wizar.gw\\anaconda3\\lib\\site-packages (from pytest>=7.0.0->pytest-asyncio<=0.21.1->inference[yolo-world]) (1.1.1)\n",
      "Requirement already satisfied: pluggy<2.0,>=0.12 in c:\\users\\wizar.gw\\anaconda3\\lib\\site-packages (from pytest>=7.0.0->pytest-asyncio<=0.21.1->inference[yolo-world]) (1.0.0)\n",
      "Requirement already satisfied: fsspec in c:\\users\\wizar.gw\\anaconda3\\lib\\site-packages (from torch->rf-clip==1.0->inference[yolo-world]) (2023.10.0)\n",
      "Requirement already satisfied: mkl<=2021.4.0,>=2021.1.1 in c:\\users\\wizar.gw\\anaconda3\\lib\\site-packages (from torch->rf-clip==1.0->inference[yolo-world]) (2021.4.0)\n",
      "Requirement already satisfied: mypy-extensions>=0.3.0 in c:\\users\\wizar.gw\\anaconda3\\lib\\site-packages (from typing-inspect<1,>=0.4.0->dataclasses-json>=0.6.0->inference[yolo-world]) (1.0.0)\n",
      "Requirement already satisfied: humanfriendly>=9.1 in c:\\users\\wizar.gw\\anaconda3\\lib\\site-packages (from coloredlogs->onnxruntime<=1.15.1->inference[yolo-world]) (10.0)\n",
      "Requirement already satisfied: cffi>=1.12 in c:\\users\\wizar.gw\\anaconda3\\lib\\site-packages (from cryptography->skypilot==0.5.0->skypilot[aws,gcp]==0.5.0->inference[yolo-world]) (1.16.0)\n",
      "Collecting wcwidth (from PrettyTable>=2.0.0->skypilot==0.5.0->skypilot[aws,gcp]==0.5.0->inference[yolo-world])\n",
      "  Downloading wcwidth-0.2.13-py2.py3-none-any.whl.metadata (14 kB)\n",
      "Requirement already satisfied: google-cloud-core<3.0dev,>=2.3.0 in c:\\users\\wizar.gw\\anaconda3\\lib\\site-packages (from google-cloud-storage->skypilot[aws,gcp]==0.5.0->inference[yolo-world]) (2.4.1)\n",
      "Requirement already satisfied: google-resumable-media>=2.6.0 in c:\\users\\wizar.gw\\anaconda3\\lib\\site-packages (from google-cloud-storage->skypilot[aws,gcp]==0.5.0->inference[yolo-world]) (2.7.0)\n",
      "Requirement already satisfied: google-crc32c<2.0dev,>=1.0 in c:\\users\\wizar.gw\\anaconda3\\lib\\site-packages (from google-cloud-storage->skypilot[aws,gcp]==0.5.0->inference[yolo-world]) (1.5.0)\n",
      "Requirement already satisfied: jsonschema-specifications>=2023.03.6 in c:\\users\\wizar.gw\\anaconda3\\lib\\site-packages (from jsonschema->skypilot==0.5.0->skypilot[aws,gcp]==0.5.0->inference[yolo-world]) (2023.7.1)\n",
      "Requirement already satisfied: referencing>=0.28.4 in c:\\users\\wizar.gw\\anaconda3\\lib\\site-packages (from jsonschema->skypilot==0.5.0->skypilot[aws,gcp]==0.5.0->inference[yolo-world]) (0.30.2)\n",
      "Requirement already satisfied: rpds-py>=0.7.1 in c:\\users\\wizar.gw\\anaconda3\\lib\\site-packages (from jsonschema->skypilot==0.5.0->skypilot[aws,gcp]==0.5.0->inference[yolo-world]) (0.10.6)\n",
      "Requirement already satisfied: time-machine>=2.6.0 in c:\\users\\wizar.gw\\anaconda3\\lib\\site-packages (from pendulum->skypilot==0.5.0->skypilot[aws,gcp]==0.5.0->inference[yolo-world]) (2.14.1)\n",
      "Requirement already satisfied: mpmath>=0.19 in c:\\users\\wizar.gw\\anaconda3\\lib\\site-packages (from sympy->onnxruntime<=1.15.1->inference[yolo-world]) (1.3.0)\n",
      "Requirement already satisfied: pycparser in c:\\users\\wizar.gw\\anaconda3\\lib\\site-packages (from cffi>=1.12->cryptography->skypilot==0.5.0->skypilot[aws,gcp]==0.5.0->inference[yolo-world]) (2.21)\n",
      "Requirement already satisfied: googleapis-common-protos<2.0.dev0,>=1.56.2 in c:\\users\\wizar.gw\\anaconda3\\lib\\site-packages (from google-api-core!=2.0.*,!=2.1.*,!=2.2.*,!=2.3.0,<3.0.0.dev0,>=1.31.5->google-api-python-client>=2.69.0->skypilot[aws,gcp]==0.5.0->inference[yolo-world]) (1.63.0)\n",
      "Requirement already satisfied: proto-plus<2.0.0dev,>=1.22.3 in c:\\users\\wizar.gw\\anaconda3\\lib\\site-packages (from google-api-core!=2.0.*,!=2.1.*,!=2.2.*,!=2.3.0,<3.0.0.dev0,>=1.31.5->google-api-python-client>=2.69.0->skypilot[aws,gcp]==0.5.0->inference[yolo-world]) (1.23.0)\n",
      "Requirement already satisfied: pyasn1-modules>=0.2.1 in c:\\users\\wizar.gw\\anaconda3\\lib\\site-packages (from google-auth!=2.24.0,!=2.25.0,<3.0.0.dev0,>=1.32.0->google-api-python-client>=2.69.0->skypilot[aws,gcp]==0.5.0->inference[yolo-world]) (0.2.8)\n",
      "Requirement already satisfied: pyreadline3 in c:\\users\\wizar.gw\\anaconda3\\lib\\site-packages (from humanfriendly>=9.1->coloredlogs->onnxruntime<=1.15.1->inference[yolo-world]) (3.4.1)\n",
      "Requirement already satisfied: intel-openmp==2021.* in c:\\users\\wizar.gw\\anaconda3\\lib\\site-packages (from mkl<=2021.4.0,>=2021.1.1->torch->rf-clip==1.0->inference[yolo-world]) (2021.4.0)\n",
      "Requirement already satisfied: tbb==2021.* in c:\\users\\wizar.gw\\anaconda3\\lib\\site-packages (from mkl<=2021.4.0,>=2021.1.1->torch->rf-clip==1.0->inference[yolo-world]) (2021.12.0)\n",
      "Requirement already satisfied: pyasn1>=0.1.3 in c:\\users\\wizar.gw\\anaconda3\\lib\\site-packages (from rsa<4.8,>=3.1.2->awscli>=1.27.10->skypilot[aws,gcp]==0.5.0->inference[yolo-world]) (0.4.8)\n",
      "Downloading dill-0.3.8-py3-none-any.whl (116 kB)\n"
     ]
    },
    {
     "name": "stdout",
     "output_type": "stream",
     "text": [
      "   ---------------------------------------- 0.0/116.3 kB ? eta -:--:--\n",
      "   ---------------------------------------- 116.3/116.3 kB 7.1 MB/s eta 0:00:00\n",
      "Downloading rf_clip-1.0-py3-none-any.whl (1.4 MB)\n",
      "   ---------------------------------------- 0.0/1.4 MB ? eta -:--:--\n",
      "   -------------- ------------------------- 0.5/1.4 MB 15.2 MB/s eta 0:00:01\n",
      "   ------------------------------ --------- 1.0/1.4 MB 13.3 MB/s eta 0:00:01\n",
      "   ---------------------------------------- 1.4/1.4 MB 10.9 MB/s eta 0:00:00\n",
      "Downloading ultralytics-8.2.10-py3-none-any.whl (755 kB)\n",
      "   ---------------------------------------- 0.0/755.6 kB ? eta -:--:--\n",
      "   ------------------------------ -------- 593.9/755.6 kB 12.4 MB/s eta 0:00:01\n",
      "   ---------------------------------------- 755.6/755.6 kB 9.4 MB/s eta 0:00:00\n",
      "Downloading ftfy-6.2.0-py3-none-any.whl (54 kB)\n",
      "   ---------------------------------------- 0.0/54.4 kB ? eta -:--:--\n",
      "   ---------------------------------------- 54.4/54.4 kB ? eta 0:00:00\n",
      "Downloading wcwidth-0.2.13-py2.py3-none-any.whl (34 kB)\n",
      "Installing collected packages: wcwidth, ftfy, dill, ultralytics, rf-clip\n",
      "  Attempting uninstall: wcwidth\n",
      "    Found existing installation: wcwidth 0.2.5\n",
      "    Uninstalling wcwidth-0.2.5:\n",
      "      Successfully uninstalled wcwidth-0.2.5\n",
      "  Attempting uninstall: dill\n",
      "    Found existing installation: dill 0.3.7\n",
      "    Uninstalling dill-0.3.7:\n",
      "      Successfully uninstalled dill-0.3.7\n",
      "  Attempting uninstall: ultralytics\n",
      "    Found existing installation: ultralytics 8.0.196\n",
      "    Uninstalling ultralytics-8.0.196:\n",
      "      Successfully uninstalled ultralytics-8.0.196\n",
      "Successfully installed dill-0.3.8 ftfy-6.2.0 rf-clip-1.0 ultralytics-8.2.10 wcwidth-0.2.13\n"
     ]
    }
   ],
   "source": [
    "# Installing PySimpleGUI\n",
    "!python -m pip install pysimplegui\n",
    "!pip install pillow\n",
    "!pip install inference\n",
    "!pip install inference[yolo-world]"
   ]
  },
  {
   "cell_type": "code",
   "execution_count": 13,
   "metadata": {},
   "outputs": [
    {
     "name": "stderr",
     "output_type": "stream",
     "text": [
      "UserWarning: Specified provider 'CUDAExecutionProvider' is not in available provider names.Available providers: 'CPUExecutionProvider'\n",
      "UserWarning: Specified provider 'OpenVINOExecutionProvider' is not in available provider names.Available providers: 'CPUExecutionProvider'\n"
     ]
    }
   ],
   "source": [
    "# Imports\n",
    "import PySimpleGUI as sg\n",
    "import cv2\n",
    "import numpy as np\n",
    "from PIL import Image, ImageTk\n",
    "import io\n",
    "import os\n",
    "from inference import get_model\n",
    "\n",
    "model_inf = get_model(model_id=\"plane-detection-eyzak/2\", api_key=\"nr1RFEWRZXe3o3eQV1ns\")"
   ]
  },
  {
   "cell_type": "code",
   "execution_count": 20,
   "metadata": {},
   "outputs": [],
   "source": [
    "# Defines potential filetypes to search for\n",
    "file_types = [(\"JPEG (*.jpg)\", \"*.jpg\"),\n",
    "              (\"All files (*.*)\", \"*.*\")]\n",
    "\n",
    "def main():\n",
    "    # Defines list of files from selected folder\n",
    "    file_list_column = [\n",
    "        [\n",
    "            sg.Text(\"Image Folder\"),\n",
    "            sg.In(size=(25, 1), enable_events=True, key=\"-FOLDER-\"),\n",
    "            sg.FolderBrowse(),\n",
    "        ],\n",
    "        [\n",
    "            sg.Listbox(\n",
    "                values=[], enable_events=True, size=(40, 20), key=\"-FILE LIST-\"\n",
    "            )\n",
    "        ],\n",
    "    ]\n",
    "    \n",
    "    # File loader // UNUSED\n",
    "    file_loader_column = [\n",
    "        [\n",
    "            sg.Text(\"Image File\"),\n",
    "            sg.Input(size=(25, 1), key=\"-FILE-\"),\n",
    "            sg.FileBrowse(file_types=file_types),\n",
    "        ],\n",
    "        [\n",
    "            sg.Button(\"Load Image\"),\n",
    "        ]\n",
    "    ]\n",
    "    \n",
    "    # Image display\n",
    "    image_display_column = [\n",
    "        [\n",
    "            sg.Image(key=\"-IMAGE-\"),\n",
    "        ]\n",
    "    ]\n",
    "    \n",
    "    # Defines the layout of the program\n",
    "    layout = [\n",
    "        #[sg.Image(key=\"-IMAGE-\")],\n",
    "        [\n",
    "            sg.Column(file_list_column, element_justification='c'),\n",
    "#             sg.Column(file_loader_column, element_justification='c'),\n",
    "            sg.VSeparator(),\n",
    "            sg.Column(image_display_column, element_justification='c'),\n",
    "        ],\n",
    "#         [\n",
    "#             sg.Button(\"Confusion Matrix\"),\n",
    "#             sg.Button(\"Result Graphs\"),\n",
    "#             sg.Button(\"Predictions\"),\n",
    "#         ],\n",
    "    ]\n",
    "    \n",
    "    \n",
    "    # Applies the layout to the window\n",
    "    window = sg.Window(\"Image Viewer\", layout, element_justification='c')\n",
    "    \n",
    "    ###########\n",
    "    # UPDATER #\n",
    "    ###########\n",
    "    # Updates the window with corresponding values and images\n",
    "    while True:\n",
    "        event, values = window.read()\n",
    "        if event == \"Exit\" or event == sg.WIN_CLOSED:\n",
    "            break\n",
    "        if event == \"-FOLDER-\":\n",
    "            folder = values[\"-FOLDER-\"]\n",
    "            try:\n",
    "                # Get list of files in folder\n",
    "                file_list = os.listdir(folder)\n",
    "            except:\n",
    "                file_list = []\n",
    "\n",
    "            fnames = [\n",
    "                f\n",
    "                for f in file_list\n",
    "                if os.path.isfile(os.path.join(folder, f))\n",
    "                and f.lower().endswith((\".jpg\"))\n",
    "            ]\n",
    "            window[\"-FILE LIST-\"].update(fnames)\n",
    "        if event == \"-FILE LIST-\":  # A file was chosen from the listbox\n",
    "            try:\n",
    "                filename = os.path.join(\n",
    "                    values[\"-FOLDER-\"], values[\"-FILE LIST-\"][0]\n",
    "                )\n",
    "                image = Image.open(filename)\n",
    "                image.thumbnail((400, 400))\n",
    "                bio = io.BytesIO()\n",
    "                image.save(bio, format=\"PNG\")\n",
    "                window[\"-IMAGE-\"].update(data=bio.getvalue())\n",
    "            except:\n",
    "                pass\n",
    "        if event == \"Load Image\":  # NOTE: This part is currently unused, but is available for debugging.\n",
    "            filename = values[\"-FILE-\"]\n",
    "            if os.path.exists(filename):\n",
    "                # NOTE: If you want to do predictions, they would have to be placed here, prior to conversion.\n",
    "                image = Image.open(values[\"-FILE-\"])\n",
    "                image.thumbnail((400, 400))\n",
    "                bio = io.BytesIO()\n",
    "                image.save(bio, format=\"PNG\")\n",
    "                window[\"-IMAGE-\"].update(data=bio.getvalue())\n",
    "        if event == \"Confusion Matrix\":\n",
    "            window[\"-IMAGE-\"].update(confusion)\n",
    "        if event == \"Result Graphs\":\n",
    "            window[\"-IMAGE-\"].update(results)\n",
    "        if event == \"Predictions\":\n",
    "            window[\"-IMAGE-\"].update(predictions)\n",
    "    \n",
    "    # Closes window as necessary\n",
    "    window.close()\n",
    "\n",
    "main()"
   ]
  },
  {
   "cell_type": "code",
   "execution_count": null,
   "metadata": {},
   "outputs": [],
   "source": []
  }
 ],
 "metadata": {
  "accelerator": "GPU",
  "colab": {
   "gpuType": "T4",
   "provenance": []
  },
  "kernelspec": {
   "display_name": "Python 3 (ipykernel)",
   "language": "python",
   "name": "python3"
  },
  "language_info": {
   "codemirror_mode": {
    "name": "ipython",
    "version": 3
   },
   "file_extension": ".py",
   "mimetype": "text/x-python",
   "name": "python",
   "nbconvert_exporter": "python",
   "pygments_lexer": "ipython3",
   "version": "3.11.7"
  }
 },
 "nbformat": 4,
 "nbformat_minor": 1
}
