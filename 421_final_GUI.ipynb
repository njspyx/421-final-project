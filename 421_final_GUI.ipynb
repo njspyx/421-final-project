{
 "cells": [
  {
   "cell_type": "markdown",
   "metadata": {
    "id": "ct-Y-LOqMIAm"
   },
   "source": [
    "#CMSC421 Final Project\n",
    "Team Members: Jordan Maggin, Lex Kim, Zhuo Cheng Xie, Neel Jay, Hylene Wu\n",
    "\n",
    "Project Description: The program will train on the set of images and gather information on airplanes from these images. With this information, it will attempt to both locate and identify airplanes in different sets of videos.\n"
   ]
  },
  {
   "cell_type": "markdown",
   "metadata": {
    "id": "KfdqigUnGdXM"
   },
   "source": [
    "Installing YOLO"
   ]
  },
  {
   "cell_type": "code",
   "execution_count": 1,
   "metadata": {
    "colab": {
     "base_uri": "https://localhost:8080/"
    },
    "id": "cc9aFAQbKed0",
    "outputId": "775dfbd7-38ca-4790-cda9-1ae5a066ec62"
   },
   "outputs": [
    {
     "name": "stdout",
     "output_type": "stream",
     "text": [
      "Mon May  6 17:30:23 2024       \n",
      "+---------------------------------------------------------------------------------------+\n",
      "| NVIDIA-SMI 546.65                 Driver Version: 546.65       CUDA Version: 12.3     |\n",
      "|-----------------------------------------+----------------------+----------------------+\n",
      "| GPU  Name                     TCC/WDDM  | Bus-Id        Disp.A | Volatile Uncorr. ECC |\n",
      "| Fan  Temp   Perf          Pwr:Usage/Cap |         Memory-Usage | GPU-Util  Compute M. |\n",
      "|                                         |                      |               MIG M. |\n",
      "|=========================================+======================+======================|\n",
      "|   0  NVIDIA GeForce GTX 1050 Ti   WDDM  | 00000000:01:00.0  On |                  N/A |\n",
      "| 35%   29C    P8              N/A /  75W |    963MiB /  4096MiB |      3%      Default |\n",
      "|                                         |                      |                  N/A |\n",
      "+-----------------------------------------+----------------------+----------------------+\n",
      "                                                                                         \n",
      "+---------------------------------------------------------------------------------------+\n",
      "| Processes:                                                                            |\n",
      "|  GPU   GI   CI        PID   Type   Process name                            GPU Memory |\n",
      "|        ID   ID                                                             Usage      |\n",
      "|=======================================================================================|\n",
      "|    0   N/A  N/A      2240    C+G   C:\\Windows\\explorer.exe                   N/A      |\n",
      "|    0   N/A  N/A      2664    C+G   ...a\\Local\\Programs\\Opera GX\\opera.exe    N/A      |\n",
      "|    0   N/A  N/A      2856    C+G   ...1.0_x64__8wekyb3d8bbwe\\Video.UI.exe    N/A      |\n",
      "|    0   N/A  N/A      2892    C+G   ...W\\AppData\\Roaming\\Zoom\\bin\\Zoom.exe    N/A      |\n",
      "|    0   N/A  N/A      4568    C+G   ...\\cef\\cef.win7x64\\steamwebhelper.exe    N/A      |\n",
      "|    0   N/A  N/A      4684    C+G   ...on\\HEX\\Creative Cloud UI Helper.exe    N/A      |\n",
      "|    0   N/A  N/A      5552    C+G   ...on\\124.0.2478.80\\msedgewebview2.exe    N/A      |\n",
      "|    0   N/A  N/A      7252    C+G   ...GeForce Experience\\NVIDIA Share.exe    N/A      |\n",
      "|    0   N/A  N/A      7500    C+G   ...CBS_cw5n1h2txyewy\\TextInputHost.exe    N/A      |\n",
      "|    0   N/A  N/A      9148    C+G   ...crosoft\\Edge\\Application\\msedge.exe    N/A      |\n",
      "|    0   N/A  N/A      9868    C+G   ...siveControlPanel\\SystemSettings.exe    N/A      |\n",
      "|    0   N/A  N/A     10960    C+G   ...al\\Discord\\app-1.0.9044\\Discord.exe    N/A      |\n",
      "|    0   N/A  N/A     12564    C+G   ...5n1h2txyewy\\ShellExperienceHost.exe    N/A      |\n",
      "|    0   N/A  N/A     13164    C+G   ...ejd91yc\\AdobeNotificationClient.exe    N/A      |\n",
      "|    0   N/A  N/A     15352    C+G   ...t.LockApp_cw5n1h2txyewy\\LockApp.exe    N/A      |\n",
      "|    0   N/A  N/A     16060    C+G   ...ekyb3d8bbwe\\PhoneExperienceHost.exe    N/A      |\n",
      "|    0   N/A  N/A     17248    C+G   ...2txyewy\\StartMenuExperienceHost.exe    N/A      |\n",
      "|    0   N/A  N/A     17272    C+G   ...GeForce Experience\\NVIDIA Share.exe    N/A      |\n",
      "|    0   N/A  N/A     18200    C+G   ...on\\124.0.2478.80\\msedgewebview2.exe    N/A      |\n",
      "|    0   N/A  N/A     19696    C+G   ...nt.CBS_cw5n1h2txyewy\\SearchHost.exe    N/A      |\n",
      "+---------------------------------------------------------------------------------------+\n"
     ]
    }
   ],
   "source": [
    "!nvidia-smi"
   ]
  },
  {
   "cell_type": "code",
   "execution_count": 2,
   "metadata": {
    "colab": {
     "base_uri": "https://localhost:8080/"
    },
    "id": "wh6PS0RLGcUC",
    "outputId": "63f291b1-ec22-4eff-d2fa-07ac9fb3674a"
   },
   "outputs": [
    {
     "name": "stderr",
     "output_type": "stream",
     "text": [
      "Ultralytics YOLOv8.0.196  Python-3.11.7 torch-2.3.0+cpu CPU (Intel Core(TM) i7-6700 3.40GHz)\n",
      "Setup complete  (8 CPUs, 31.9 GB RAM, 1284.7/1862.4 GB disk)\n"
     ]
    }
   ],
   "source": [
    "!pip install ultralytics==8.0.196\n",
    "\n",
    "from IPython import display\n",
    "display.clear_output()\n",
    "\n",
    "import ultralytics\n",
    "ultralytics.checks()"
   ]
  },
  {
   "cell_type": "code",
   "execution_count": 3,
   "metadata": {
    "id": "rYaZMp6PIJ-_"
   },
   "outputs": [],
   "source": [
    "from ultralytics import YOLO\n",
    "from IPython.display import display, Image\n"
   ]
  },
  {
   "cell_type": "markdown",
   "metadata": {
    "id": "7JiLQOYwSG23"
   },
   "source": [
    "Importing dataset from Roboflow Project"
   ]
  },
  {
   "cell_type": "code",
   "execution_count": 3,
   "metadata": {
    "colab": {
     "base_uri": "https://localhost:8080/"
    },
    "id": "UyukieNxIhab",
    "outputId": "99a483dc-56e1-42de-c644-59d529b73830"
   },
   "outputs": [
    {
     "name": "stdout",
     "output_type": "stream",
     "text": [
      "C:\\Users\\wizar.GW\\Downloads\\final421\\datasets\n"
     ]
    },
    {
     "name": "stderr",
     "output_type": "stream",
     "text": [
      "A subdirectory or file C:\\Users\\wizar.GW\\Downloads\\final421\\datasets already exists.\n"
     ]
    },
    {
     "name": "stdout",
     "output_type": "stream",
     "text": [
      "loading Roboflow workspace...\n",
      "loading Roboflow project...\n",
      "Success!\n"
     ]
    }
   ],
   "source": [
    "import os\n",
    "root_dir = os.getcwd()\n",
    "!mkdir {root_dir}\\datasets\n",
    "%cd {root_dir}\\datasets\n",
    "\n",
    "# paste the exported dataset code here\n",
    "!pip install roboflow --quiet\n",
    "\n",
    "from roboflow import Roboflow\n",
    "rf = Roboflow(api_key=\"nr1RFEWRZXe3o3eQV1ns\")\n",
    "project = rf.workspace(\"cmsc421-final-project\").project(\"vehicle-detection-ansgq\")\n",
    "version = project.version(1)\n",
    "dataset = version.download(\"yolov8\")\n",
    "\n",
    "print(\"Success!\")"
   ]
  },
  {
   "cell_type": "markdown",
   "metadata": {
    "id": "cpSsksiUWD1I"
   },
   "source": [
    "Custom Training\n",
    "\n",
    "(Weights are saved to /content/runs/detect/train)"
   ]
  },
  {
   "cell_type": "code",
   "execution_count": 4,
   "metadata": {
    "colab": {
     "base_uri": "https://localhost:8080/"
    },
    "id": "8VQldK6GSDNg",
    "outputId": "e2e26fff-b0ed-4f03-d7b0-2e3adeebbfc5"
   },
   "outputs": [
    {
     "name": "stdout",
     "output_type": "stream",
     "text": [
      "C:\\Users\\wizar.GW\\Downloads\\final421\n",
      "^C\n"
     ]
    }
   ],
   "source": [
    "%cd {root_dir}\n",
    "\n",
    "!yolo task=detect mode=train model=yolov8s.pt data={dataset.location}/data.yaml epochs=25 imgsz=640 plots=True"
   ]
  },
  {
   "cell_type": "markdown",
   "metadata": {
    "id": "dS58fHwdYvG2"
   },
   "source": [
    "Resulting Confusion Matrix"
   ]
  },
  {
   "cell_type": "code",
   "execution_count": 5,
   "metadata": {
    "colab": {
     "base_uri": "https://localhost:8080/",
     "height": 467
    },
    "id": "qPNC_aGNYYCy",
    "outputId": "4e241e7f-0b05-4138-e5dd-7d4fdbd42708"
   },
   "outputs": [
    {
     "ename": "FileNotFoundError",
     "evalue": "[Errno 2] No such file or directory: 'C:\\\\Users\\\\wizar.GW\\\\Downloads\\\\final421/runs/detect/train/confusion_matrix.png'",
     "output_type": "error",
     "traceback": [
      "\u001b[1;31m---------------------------------------------------------------------------\u001b[0m",
      "\u001b[1;31mFileNotFoundError\u001b[0m                         Traceback (most recent call last)",
      "Cell \u001b[1;32mIn[5], line 1\u001b[0m\n\u001b[1;32m----> 1\u001b[0m Image(filename\u001b[38;5;241m=\u001b[39m\u001b[38;5;124mf\u001b[39m\u001b[38;5;124m'\u001b[39m\u001b[38;5;132;01m{\u001b[39;00mroot_dir\u001b[38;5;132;01m}\u001b[39;00m\u001b[38;5;124m/runs/detect/train/confusion_matrix.png\u001b[39m\u001b[38;5;124m'\u001b[39m, width\u001b[38;5;241m=\u001b[39m\u001b[38;5;241m600\u001b[39m)\n",
      "File \u001b[1;32m~\\anaconda3\\Lib\\site-packages\\IPython\\core\\display.py:970\u001b[0m, in \u001b[0;36mImage.__init__\u001b[1;34m(self, data, url, filename, format, embed, width, height, retina, unconfined, metadata, alt)\u001b[0m\n\u001b[0;32m    968\u001b[0m \u001b[38;5;28mself\u001b[39m\u001b[38;5;241m.\u001b[39munconfined \u001b[38;5;241m=\u001b[39m unconfined\n\u001b[0;32m    969\u001b[0m \u001b[38;5;28mself\u001b[39m\u001b[38;5;241m.\u001b[39malt \u001b[38;5;241m=\u001b[39m alt\n\u001b[1;32m--> 970\u001b[0m \u001b[38;5;28msuper\u001b[39m(Image, \u001b[38;5;28mself\u001b[39m)\u001b[38;5;241m.\u001b[39m\u001b[38;5;21m__init__\u001b[39m(data\u001b[38;5;241m=\u001b[39mdata, url\u001b[38;5;241m=\u001b[39murl, filename\u001b[38;5;241m=\u001b[39mfilename,\n\u001b[0;32m    971\u001b[0m         metadata\u001b[38;5;241m=\u001b[39mmetadata)\n\u001b[0;32m    973\u001b[0m \u001b[38;5;28;01mif\u001b[39;00m \u001b[38;5;28mself\u001b[39m\u001b[38;5;241m.\u001b[39mwidth \u001b[38;5;129;01mis\u001b[39;00m \u001b[38;5;28;01mNone\u001b[39;00m \u001b[38;5;129;01mand\u001b[39;00m \u001b[38;5;28mself\u001b[39m\u001b[38;5;241m.\u001b[39mmetadata\u001b[38;5;241m.\u001b[39mget(\u001b[38;5;124m'\u001b[39m\u001b[38;5;124mwidth\u001b[39m\u001b[38;5;124m'\u001b[39m, {}):\n\u001b[0;32m    974\u001b[0m     \u001b[38;5;28mself\u001b[39m\u001b[38;5;241m.\u001b[39mwidth \u001b[38;5;241m=\u001b[39m metadata[\u001b[38;5;124m'\u001b[39m\u001b[38;5;124mwidth\u001b[39m\u001b[38;5;124m'\u001b[39m]\n",
      "File \u001b[1;32m~\\anaconda3\\Lib\\site-packages\\IPython\\core\\display.py:327\u001b[0m, in \u001b[0;36mDisplayObject.__init__\u001b[1;34m(self, data, url, filename, metadata)\u001b[0m\n\u001b[0;32m    324\u001b[0m \u001b[38;5;28;01melif\u001b[39;00m \u001b[38;5;28mself\u001b[39m\u001b[38;5;241m.\u001b[39mmetadata \u001b[38;5;129;01mis\u001b[39;00m \u001b[38;5;28;01mNone\u001b[39;00m:\n\u001b[0;32m    325\u001b[0m     \u001b[38;5;28mself\u001b[39m\u001b[38;5;241m.\u001b[39mmetadata \u001b[38;5;241m=\u001b[39m {}\n\u001b[1;32m--> 327\u001b[0m \u001b[38;5;28mself\u001b[39m\u001b[38;5;241m.\u001b[39mreload()\n\u001b[0;32m    328\u001b[0m \u001b[38;5;28mself\u001b[39m\u001b[38;5;241m.\u001b[39m_check_data()\n",
      "File \u001b[1;32m~\\anaconda3\\Lib\\site-packages\\IPython\\core\\display.py:1005\u001b[0m, in \u001b[0;36mImage.reload\u001b[1;34m(self)\u001b[0m\n\u001b[0;32m   1003\u001b[0m \u001b[38;5;250m\u001b[39m\u001b[38;5;124;03m\"\"\"Reload the raw data from file or URL.\"\"\"\u001b[39;00m\n\u001b[0;32m   1004\u001b[0m \u001b[38;5;28;01mif\u001b[39;00m \u001b[38;5;28mself\u001b[39m\u001b[38;5;241m.\u001b[39membed:\n\u001b[1;32m-> 1005\u001b[0m     \u001b[38;5;28msuper\u001b[39m(Image,\u001b[38;5;28mself\u001b[39m)\u001b[38;5;241m.\u001b[39mreload()\n\u001b[0;32m   1006\u001b[0m     \u001b[38;5;28;01mif\u001b[39;00m \u001b[38;5;28mself\u001b[39m\u001b[38;5;241m.\u001b[39mretina:\n\u001b[0;32m   1007\u001b[0m         \u001b[38;5;28mself\u001b[39m\u001b[38;5;241m.\u001b[39m_retina_shape()\n",
      "File \u001b[1;32m~\\anaconda3\\Lib\\site-packages\\IPython\\core\\display.py:353\u001b[0m, in \u001b[0;36mDisplayObject.reload\u001b[1;34m(self)\u001b[0m\n\u001b[0;32m    351\u001b[0m \u001b[38;5;28;01mif\u001b[39;00m \u001b[38;5;28mself\u001b[39m\u001b[38;5;241m.\u001b[39mfilename \u001b[38;5;129;01mis\u001b[39;00m \u001b[38;5;129;01mnot\u001b[39;00m \u001b[38;5;28;01mNone\u001b[39;00m:\n\u001b[0;32m    352\u001b[0m     encoding \u001b[38;5;241m=\u001b[39m \u001b[38;5;28;01mNone\u001b[39;00m \u001b[38;5;28;01mif\u001b[39;00m \u001b[38;5;124m\"\u001b[39m\u001b[38;5;124mb\u001b[39m\u001b[38;5;124m\"\u001b[39m \u001b[38;5;129;01min\u001b[39;00m \u001b[38;5;28mself\u001b[39m\u001b[38;5;241m.\u001b[39m_read_flags \u001b[38;5;28;01melse\u001b[39;00m \u001b[38;5;124m\"\u001b[39m\u001b[38;5;124mutf-8\u001b[39m\u001b[38;5;124m\"\u001b[39m\n\u001b[1;32m--> 353\u001b[0m     \u001b[38;5;28;01mwith\u001b[39;00m \u001b[38;5;28mopen\u001b[39m(\u001b[38;5;28mself\u001b[39m\u001b[38;5;241m.\u001b[39mfilename, \u001b[38;5;28mself\u001b[39m\u001b[38;5;241m.\u001b[39m_read_flags, encoding\u001b[38;5;241m=\u001b[39mencoding) \u001b[38;5;28;01mas\u001b[39;00m f:\n\u001b[0;32m    354\u001b[0m         \u001b[38;5;28mself\u001b[39m\u001b[38;5;241m.\u001b[39mdata \u001b[38;5;241m=\u001b[39m f\u001b[38;5;241m.\u001b[39mread()\n\u001b[0;32m    355\u001b[0m \u001b[38;5;28;01melif\u001b[39;00m \u001b[38;5;28mself\u001b[39m\u001b[38;5;241m.\u001b[39murl \u001b[38;5;129;01mis\u001b[39;00m \u001b[38;5;129;01mnot\u001b[39;00m \u001b[38;5;28;01mNone\u001b[39;00m:\n\u001b[0;32m    356\u001b[0m     \u001b[38;5;66;03m# Deferred import\u001b[39;00m\n",
      "\u001b[1;31mFileNotFoundError\u001b[0m: [Errno 2] No such file or directory: 'C:\\\\Users\\\\wizar.GW\\\\Downloads\\\\final421/runs/detect/train/confusion_matrix.png'"
     ]
    }
   ],
   "source": [
    "Image(filename=f'{root_dir}/runs/detect/train/confusion_matrix.png', width=600)\n",
    "# SAVE IMAGEPATH IN VARIABLE\n",
    "confusion = "
   ]
  },
  {
   "cell_type": "code",
   "execution_count": null,
   "metadata": {
    "colab": {
     "base_uri": "https://localhost:8080/",
     "height": 317
    },
    "id": "nubCPeC58t81",
    "outputId": "ad832d86-ce0b-47c9-a528-e547b8d33d61"
   },
   "outputs": [],
   "source": [
    "Image(filename=f'{root_dir}/runs/detect/train/results.png', width=600)\n",
    "# SAVE IMAGEPATH AS VARIABLE\n",
    "results = "
   ]
  },
  {
   "cell_type": "markdown",
   "metadata": {
    "id": "5EzNhdoMX6ty"
   },
   "source": [
    "Validate model"
   ]
  },
  {
   "cell_type": "code",
   "execution_count": null,
   "metadata": {
    "colab": {
     "base_uri": "https://localhost:8080/"
    },
    "id": "_hv4uu6XX6Zu",
    "outputId": "bd3320a4-b59b-42e7-a710-ce9c34d3f7fe"
   },
   "outputs": [],
   "source": [
    "!yolo task=detect mode=val model={root_dir}/runs/detect/train/weights/best.pt data={dataset.location}/data.yaml"
   ]
  },
  {
   "cell_type": "markdown",
   "metadata": {
    "id": "Tha9-VcrZBS7"
   },
   "source": [
    "Inference/Predict with Model"
   ]
  },
  {
   "cell_type": "code",
   "execution_count": null,
   "metadata": {
    "colab": {
     "base_uri": "https://localhost:8080/"
    },
    "id": "1M9J8HfbY9tw",
    "outputId": "95756e66-0560-4913-ad23-aae6d11a35fe"
   },
   "outputs": [],
   "source": [
    "!yolo task=detect mode=predict model={root_dir}/runs/detect/train/weights/best.pt conf=0.25 source={dataset.location}/test/images save=True"
   ]
  },
  {
   "cell_type": "code",
   "execution_count": null,
   "metadata": {
    "colab": {
     "base_uri": "https://localhost:8080/",
     "height": 617
    },
    "id": "RSKhIK_7aDB-",
    "outputId": "8233c09b-74ca-4d89-a49f-d1d07e17ff83"
   },
   "outputs": [],
   "source": [
    "Image(filename=f'{root_dir}/runs/detect/train/val_batch2_pred.jpg', width=600)\n",
    "# SAVE IMAGEPATH AS VARIABLE\n",
    "predictions = f'{root_dir}/runs/detect/train/val_batch2_pred.jpg'"
   ]
  },
  {
   "cell_type": "markdown",
   "metadata": {
    "id": "rqFeDi_ziZyt"
   },
   "source": [
    "Deploying to Roboflow"
   ]
  },
  {
   "cell_type": "code",
   "execution_count": null,
   "metadata": {
    "colab": {
     "base_uri": "https://localhost:8080/"
    },
    "id": "i7ChyrOvbUop",
    "outputId": "0b2eddea-0877-428e-f925-72d15a7e8060"
   },
   "outputs": [],
   "source": [
    "project.version(dataset.version).deploy(model_type=\"yolov8\", model_path=f\"{root_dir}/runs/detect/train/\")"
   ]
  },
  {
   "cell_type": "markdown",
   "metadata": {},
   "source": [
    "# Simple GUI with PySimpleGUI"
   ]
  },
  {
   "cell_type": "code",
   "execution_count": 8,
   "metadata": {},
   "outputs": [
    {
     "name": "stdout",
     "output_type": "stream",
     "text": [
      "Requirement already satisfied: pysimplegui in c:\\users\\wizar.gw\\anaconda3\\lib\\site-packages (5.0.4)\n",
      "Requirement already satisfied: rsa in c:\\users\\wizar.gw\\anaconda3\\lib\\site-packages (from pysimplegui) (4.9)\n",
      "Requirement already satisfied: pyasn1>=0.1.3 in c:\\users\\wizar.gw\\anaconda3\\lib\\site-packages (from rsa->pysimplegui) (0.4.8)\n",
      "Requirement already satisfied: pillow in c:\\users\\wizar.gw\\anaconda3\\lib\\site-packages (10.2.0)\n"
     ]
    }
   ],
   "source": [
    "# Installing PySimpleGUI\n",
    "!python -m pip install pysimplegui\n",
    "!pip install pillow"
   ]
  },
  {
   "cell_type": "code",
   "execution_count": 15,
   "metadata": {},
   "outputs": [],
   "source": [
    "# Imports\n",
    "import PySimpleGUI as sg\n",
    "import cv2\n",
    "import numpy as np\n",
    "from PIL import Image, ImageTk\n",
    "import io\n",
    "import os"
   ]
  },
  {
   "cell_type": "code",
   "execution_count": 24,
   "metadata": {},
   "outputs": [],
   "source": [
    "# Defines potential filetypes to search for\n",
    "file_types = [(\"JPEG (*.jpg)\", \"*.jpg\"),\n",
    "              (\"All files (*.*)\", \"*.*\")]\n",
    "\n",
    "def main():\n",
    "    # Defines list of files from selected folder\n",
    "    file_list_column = [\n",
    "        [\n",
    "            sg.Text(\"Image Folder\"),\n",
    "            sg.In(size=(25, 1), enable_events=True, key=\"-FOLDER-\"),\n",
    "            sg.FolderBrowse(),\n",
    "        ],\n",
    "        [\n",
    "            sg.Listbox(\n",
    "                values=[], enable_events=True, size=(40, 20), key=\"-FILE LIST-\"\n",
    "            )\n",
    "        ],\n",
    "    ]\n",
    "    \n",
    "    # File loader\n",
    "    file_loader_column = [\n",
    "        [\n",
    "            sg.Text(\"Image File\"),\n",
    "            sg.Input(size=(25, 1), key=\"-FILE-\"),\n",
    "            sg.FileBrowse(file_types=file_types),\n",
    "        ],\n",
    "        [\n",
    "            sg.Button(\"Load Image\"),\n",
    "        ]\n",
    "    ]\n",
    "    \n",
    "    # Image display\n",
    "    image_display_column = [\n",
    "        [\n",
    "            sg.Image(key=\"-IMAGE-\"),\n",
    "        ]\n",
    "    ]\n",
    "    \n",
    "    # Defines the layout of the program\n",
    "    layout = [\n",
    "        #[sg.Image(key=\"-IMAGE-\")],\n",
    "        [\n",
    "            sg.Column(file_list_column, element_justification='c'),\n",
    "#             sg.Column(file_loader_column, element_justification='c'),\n",
    "            sg.VSeparator(),\n",
    "            sg.Column(image_display_column, element_justification='c'),\n",
    "        ],\n",
    "        [\n",
    "            sg.Button(\"Confusion Matrix\"),\n",
    "            sg.Button(\"Result Graphs\"),\n",
    "            sg.Button(\"Predictions\"),\n",
    "        ],\n",
    "    ]\n",
    "    \n",
    "    \n",
    "    # Applies the layout to the window\n",
    "    window = sg.Window(\"Image Viewer\", layout, element_justification='c')\n",
    "    \n",
    "    ###########\n",
    "    # UPDATER #\n",
    "    ###########\n",
    "    # Updates the window with corresponding values and images\n",
    "    while True:\n",
    "        event, values = window.read()\n",
    "        if event == \"Exit\" or event == sg.WIN_CLOSED:\n",
    "            break\n",
    "        if event == \"-FOLDER-\":\n",
    "            folder = values[\"-FOLDER-\"]\n",
    "            try:\n",
    "                # Get list of files in folder\n",
    "                file_list = os.listdir(folder)\n",
    "            except:\n",
    "                file_list = []\n",
    "\n",
    "            fnames = [\n",
    "                f\n",
    "                for f in file_list\n",
    "                if os.path.isfile(os.path.join(folder, f))\n",
    "                and f.lower().endswith((\".jpg\"))\n",
    "            ]\n",
    "            window[\"-FILE LIST-\"].update(fnames)\n",
    "        if event == \"-FILE LIST-\":  # A file was chosen from the listbox\n",
    "            try:\n",
    "                filename = os.path.join(\n",
    "                    values[\"-FOLDER-\"], values[\"-FILE LIST-\"][0]\n",
    "                )\n",
    "                image = Image.open(filename)\n",
    "                image.thumbnail((400, 400))\n",
    "                bio = io.BytesIO()\n",
    "                image.save(bio, format=\"PNG\")\n",
    "                window[\"-IMAGE-\"].update(data=bio.getvalue())\n",
    "            except:\n",
    "                pass\n",
    "        if event == \"Load Image\":\n",
    "            filename = values[\"-FILE-\"]\n",
    "            if os.path.exists(filename):\n",
    "                # NOTE: If you want to do predictions, they would have to be placed here, prior to conversion.\n",
    "                image = Image.open(values[\"-FILE-\"])\n",
    "                image.thumbnail((400, 400))\n",
    "                bio = io.BytesIO()\n",
    "                image.save(bio, format=\"PNG\")\n",
    "                window[\"-IMAGE-\"].update(data=bio.getvalue())\n",
    "        if event == \"Confusion Matrix\":\n",
    "            window[\"-IMAGE-\"].update(confusion)\n",
    "        if event == \"Result Graphs\":\n",
    "            window[\"-IMAGE-\"].update(results)\n",
    "        if event == \"Predictions\":\n",
    "            window[\"-IMAGE-\"].update(predictions)\n",
    "    \n",
    "    # Closes window as necessary\n",
    "    window.close()\n",
    "\n",
    "main()"
   ]
  },
  {
   "cell_type": "code",
   "execution_count": null,
   "metadata": {},
   "outputs": [],
   "source": []
  }
 ],
 "metadata": {
  "accelerator": "GPU",
  "colab": {
   "gpuType": "T4",
   "provenance": []
  },
  "kernelspec": {
   "display_name": "Python 3 (ipykernel)",
   "language": "python",
   "name": "python3"
  },
  "language_info": {
   "codemirror_mode": {
    "name": "ipython",
    "version": 3
   },
   "file_extension": ".py",
   "mimetype": "text/x-python",
   "name": "python",
   "nbconvert_exporter": "python",
   "pygments_lexer": "ipython3",
   "version": "3.11.7"
  }
 },
 "nbformat": 4,
 "nbformat_minor": 1
}
